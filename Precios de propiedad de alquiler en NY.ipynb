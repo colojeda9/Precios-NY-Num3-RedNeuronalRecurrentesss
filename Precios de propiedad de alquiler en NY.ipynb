{
 "cells": [
  {
   "cell_type": "markdown",
   "id": "163ae07c",
   "metadata": {},
   "source": [
    "# TRABAJO NUMERO 2\n",
    "----\n",
    "# Precios de propiedades de alquiler en la ciudad de Nueva York.\n",
    "* ## En este proyecto tengo pensado hacer un análisis exploratorio en general.\n",
    "* ## tambien elegi este tipo de datasets por que se puede usar varios modelos predictivos en general.\n",
    "* ## la base de datos fue extraida de http://www.kaggle.com\n",
    "-----\n",
    "-.-.-.-.-.-.-.-.-.-.-.-.-.-.-.-.-.-.-.-.-.-.-.-.-.-.-.-.-.-.-.-.-.-.-.-.-.-.-.-.-.-.-.-.-.-.-.-.-.-.-.-.-.-.-.-.-.-.-.-.-.-.-.-.-.-.-.-.-.-.-.-.-.-.-.-.-.-.-.-.-.-.-.-.-.-.-.-.-.-.-.-.-.-.-.-.-.-.-.-.-.-.-.-.-.-.-.-.-.-.-.-.-.-.-.-.-.-.-.-.-.-.-.-.-.-.-.-.-.-.-.-.-.-\n",
    "* ## Podremos contestar las siguientes preguntas :\n",
    "    * ### Barrio \"mas caro\".\n",
    "    * ### Clasificar los tipo de habitación en función a sus caracteristicas.\n",
    "    * ### Determinar el precio que puede costar segun su habitación y ubicación. ******\n",
    "    * ### Podriamos agrupar basados en las caracteristicas que tengamos de precios ******"
   ]
  },
  {
   "cell_type": "code",
   "execution_count": 77,
   "id": "1ce0fe84",
   "metadata": {},
   "outputs": [],
   "source": [
    "import pandas as pd\n",
    "import numpy as np\n",
    "## ## ##\n",
    "import matplotlib.pyplot as plt\n",
    "import seaborn as sns"
   ]
  },
  {
   "cell_type": "code",
   "execution_count": 78,
   "id": "491a6da8",
   "metadata": {},
   "outputs": [
    {
     "name": "stdout",
     "output_type": "stream",
     "text": [
      "<class 'pandas.core.frame.DataFrame'>\n",
      "RangeIndex: 17614 entries, 0 to 17613\n",
      "Data columns (total 12 columns):\n",
      " #   Column                 Non-Null Count  Dtype  \n",
      "---  ------                 --------------  -----  \n",
      " 0   F1                     17614 non-null  int64  \n",
      " 1   id                     17614 non-null  int64  \n",
      " 2   neighbourhood          17614 non-null  object \n",
      " 3   latitude               17614 non-null  float64\n",
      " 4   longitude              17614 non-null  float64\n",
      " 5   room_type              17614 non-null  object \n",
      " 6   price                  17614 non-null  int64  \n",
      " 7   days_occupied_in_2019  17614 non-null  int64  \n",
      " 8   minimum_nights         17614 non-null  int64  \n",
      " 9   number_of_reviews      17614 non-null  int64  \n",
      " 10  reviews_per_month      17614 non-null  float64\n",
      " 11  availability_2020      17614 non-null  int64  \n",
      "dtypes: float64(3), int64(7), object(2)\n",
      "memory usage: 1.6+ MB\n"
     ]
    }
   ],
   "source": [
    "### Cargamos el dataset y vemos que tipos de contenido los compone\n",
    "data = pd.read_csv(\"./NY Realstate Pricing.csv\")\n",
    "data.info()"
   ]
  },
  {
   "cell_type": "markdown",
   "id": "23fd0141",
   "metadata": {},
   "source": [
    "**Observación**\n",
    "* Podemos ver que tenemos 17614 filas y 12 columnas\n",
    "\n",
    "\n",
    "----\n",
    "**Cambiaremos los nombres de las columnas para que sea mas legible**"
   ]
  },
  {
   "cell_type": "code",
   "execution_count": 79,
   "id": "4af0b98d",
   "metadata": {},
   "outputs": [
    {
     "data": {
      "text/html": [
       "<div>\n",
       "<style scoped>\n",
       "    .dataframe tbody tr th:only-of-type {\n",
       "        vertical-align: middle;\n",
       "    }\n",
       "\n",
       "    .dataframe tbody tr th {\n",
       "        vertical-align: top;\n",
       "    }\n",
       "\n",
       "    .dataframe thead th {\n",
       "        text-align: right;\n",
       "    }\n",
       "</style>\n",
       "<table border=\"1\" class=\"dataframe\">\n",
       "  <thead>\n",
       "    <tr style=\"text-align: right;\">\n",
       "      <th></th>\n",
       "      <th>F1</th>\n",
       "      <th>id</th>\n",
       "      <th>barrio</th>\n",
       "      <th>latitud</th>\n",
       "      <th>longitud</th>\n",
       "      <th>tipo_habitacion</th>\n",
       "      <th>precio</th>\n",
       "      <th>dias_ocupados_2019</th>\n",
       "      <th>noches_minimas</th>\n",
       "      <th>numeros_reseñas</th>\n",
       "      <th>reseñas_por_mes</th>\n",
       "      <th>disponibilidad_2020</th>\n",
       "    </tr>\n",
       "  </thead>\n",
       "  <tbody>\n",
       "    <tr>\n",
       "      <th>0</th>\n",
       "      <td>0</td>\n",
       "      <td>2595</td>\n",
       "      <td>Midtown</td>\n",
       "      <td>40.75362</td>\n",
       "      <td>-73.98377</td>\n",
       "      <td>Entire home/apt</td>\n",
       "      <td>225</td>\n",
       "      <td>15</td>\n",
       "      <td>10</td>\n",
       "      <td>48</td>\n",
       "      <td>0.39</td>\n",
       "      <td>1</td>\n",
       "    </tr>\n",
       "    <tr>\n",
       "      <th>1</th>\n",
       "      <td>1</td>\n",
       "      <td>3831</td>\n",
       "      <td>Brooklyn</td>\n",
       "      <td>40.68514</td>\n",
       "      <td>-73.95976</td>\n",
       "      <td>Entire home/apt</td>\n",
       "      <td>89</td>\n",
       "      <td>188</td>\n",
       "      <td>1</td>\n",
       "      <td>295</td>\n",
       "      <td>4.67</td>\n",
       "      <td>1</td>\n",
       "    </tr>\n",
       "    <tr>\n",
       "      <th>2</th>\n",
       "      <td>2</td>\n",
       "      <td>5099</td>\n",
       "      <td>Manhattan</td>\n",
       "      <td>40.74767</td>\n",
       "      <td>-73.97500</td>\n",
       "      <td>Entire home/apt</td>\n",
       "      <td>200</td>\n",
       "      <td>362</td>\n",
       "      <td>3</td>\n",
       "      <td>78</td>\n",
       "      <td>0.60</td>\n",
       "      <td>19</td>\n",
       "    </tr>\n",
       "    <tr>\n",
       "      <th>3</th>\n",
       "      <td>3</td>\n",
       "      <td>5121</td>\n",
       "      <td>Bedford-Stuyvesant</td>\n",
       "      <td>40.68688</td>\n",
       "      <td>-73.95596</td>\n",
       "      <td>Private room</td>\n",
       "      <td>60</td>\n",
       "      <td>0</td>\n",
       "      <td>29</td>\n",
       "      <td>49</td>\n",
       "      <td>0.38</td>\n",
       "      <td>365</td>\n",
       "    </tr>\n",
       "    <tr>\n",
       "      <th>4</th>\n",
       "      <td>4</td>\n",
       "      <td>5178</td>\n",
       "      <td>Manhattan</td>\n",
       "      <td>40.76489</td>\n",
       "      <td>-73.98493</td>\n",
       "      <td>Private room</td>\n",
       "      <td>79</td>\n",
       "      <td>141</td>\n",
       "      <td>2</td>\n",
       "      <td>454</td>\n",
       "      <td>3.52</td>\n",
       "      <td>242</td>\n",
       "    </tr>\n",
       "  </tbody>\n",
       "</table>\n",
       "</div>"
      ],
      "text/plain": [
       "   F1    id              barrio   latitud  longitud  tipo_habitacion  precio  \\\n",
       "0   0  2595             Midtown  40.75362 -73.98377  Entire home/apt     225   \n",
       "1   1  3831            Brooklyn  40.68514 -73.95976  Entire home/apt      89   \n",
       "2   2  5099           Manhattan  40.74767 -73.97500  Entire home/apt     200   \n",
       "3   3  5121  Bedford-Stuyvesant  40.68688 -73.95596     Private room      60   \n",
       "4   4  5178           Manhattan  40.76489 -73.98493     Private room      79   \n",
       "\n",
       "   dias_ocupados_2019  noches_minimas  numeros_reseñas  reseñas_por_mes  \\\n",
       "0                  15              10               48             0.39   \n",
       "1                 188               1              295             4.67   \n",
       "2                 362               3               78             0.60   \n",
       "3                   0              29               49             0.38   \n",
       "4                 141               2              454             3.52   \n",
       "\n",
       "   disponibilidad_2020  \n",
       "0                    1  \n",
       "1                    1  \n",
       "2                   19  \n",
       "3                  365  \n",
       "4                  242  "
      ]
     },
     "execution_count": 79,
     "metadata": {},
     "output_type": "execute_result"
    }
   ],
   "source": [
    "data = data.rename(columns={\"neighbourhood\":\"barrio\", \"latitude\":\"latitud\",\"longitude\":\"longitud\",\n",
    "                           \"room_type\":\"tipo_habitacion\",\"price\":\"precio\",\"days_occupied_in_2019\":\"dias_ocupados_2019\",\n",
    "                           \"minimum_nights\":\"noches_minimas\",\"number_of_reviews\":\"numeros_reseñas\",\n",
    "                           \"reviews_per_month\":\"reseñas_por_mes\",\"availability_2020\":\"disponibilidad_2020\"})\n",
    "data.head()"
   ]
  },
  {
   "cell_type": "code",
   "execution_count": 80,
   "id": "8cdd3c5b",
   "metadata": {},
   "outputs": [
    {
     "data": {
      "text/html": [
       "<div>\n",
       "<style scoped>\n",
       "    .dataframe tbody tr th:only-of-type {\n",
       "        vertical-align: middle;\n",
       "    }\n",
       "\n",
       "    .dataframe tbody tr th {\n",
       "        vertical-align: top;\n",
       "    }\n",
       "\n",
       "    .dataframe thead th {\n",
       "        text-align: right;\n",
       "    }\n",
       "</style>\n",
       "<table border=\"1\" class=\"dataframe\">\n",
       "  <thead>\n",
       "    <tr style=\"text-align: right;\">\n",
       "      <th></th>\n",
       "      <th>F1</th>\n",
       "      <th>id</th>\n",
       "      <th>latitud</th>\n",
       "      <th>longitud</th>\n",
       "      <th>precio</th>\n",
       "      <th>dias_ocupados_2019</th>\n",
       "      <th>noches_minimas</th>\n",
       "      <th>numeros_reseñas</th>\n",
       "      <th>reseñas_por_mes</th>\n",
       "      <th>disponibilidad_2020</th>\n",
       "    </tr>\n",
       "  </thead>\n",
       "  <tbody>\n",
       "    <tr>\n",
       "      <th>count</th>\n",
       "      <td>17614.000000</td>\n",
       "      <td>1.761400e+04</td>\n",
       "      <td>17614.000000</td>\n",
       "      <td>17614.000000</td>\n",
       "      <td>17614.000000</td>\n",
       "      <td>17614.000000</td>\n",
       "      <td>17614.000000</td>\n",
       "      <td>17614.000000</td>\n",
       "      <td>17614.000000</td>\n",
       "      <td>17614.000000</td>\n",
       "    </tr>\n",
       "    <tr>\n",
       "      <th>mean</th>\n",
       "      <td>18547.564664</td>\n",
       "      <td>1.572032e+07</td>\n",
       "      <td>40.726755</td>\n",
       "      <td>-73.947732</td>\n",
       "      <td>145.455490</td>\n",
       "      <td>179.517656</td>\n",
       "      <td>7.392926</td>\n",
       "      <td>56.128988</td>\n",
       "      <td>1.607060</td>\n",
       "      <td>154.154763</td>\n",
       "    </tr>\n",
       "    <tr>\n",
       "      <th>std</th>\n",
       "      <td>11000.717341</td>\n",
       "      <td>9.644155e+06</td>\n",
       "      <td>0.056981</td>\n",
       "      <td>0.050213</td>\n",
       "      <td>194.990677</td>\n",
       "      <td>130.202015</td>\n",
       "      <td>19.233869</td>\n",
       "      <td>65.972370</td>\n",
       "      <td>1.635528</td>\n",
       "      <td>138.079651</td>\n",
       "    </tr>\n",
       "    <tr>\n",
       "      <th>min</th>\n",
       "      <td>0.000000</td>\n",
       "      <td>2.595000e+03</td>\n",
       "      <td>40.508680</td>\n",
       "      <td>-74.239860</td>\n",
       "      <td>0.000000</td>\n",
       "      <td>0.000000</td>\n",
       "      <td>1.000000</td>\n",
       "      <td>1.000000</td>\n",
       "      <td>0.010000</td>\n",
       "      <td>0.000000</td>\n",
       "    </tr>\n",
       "    <tr>\n",
       "      <th>25%</th>\n",
       "      <td>8192.250000</td>\n",
       "      <td>6.718288e+06</td>\n",
       "      <td>40.686042</td>\n",
       "      <td>-73.980938</td>\n",
       "      <td>70.000000</td>\n",
       "      <td>35.000000</td>\n",
       "      <td>2.000000</td>\n",
       "      <td>9.000000</td>\n",
       "      <td>0.340000</td>\n",
       "      <td>8.000000</td>\n",
       "    </tr>\n",
       "    <tr>\n",
       "      <th>50%</th>\n",
       "      <td>19496.500000</td>\n",
       "      <td>1.654699e+07</td>\n",
       "      <td>40.720540</td>\n",
       "      <td>-73.953050</td>\n",
       "      <td>109.000000</td>\n",
       "      <td>198.000000</td>\n",
       "      <td>3.000000</td>\n",
       "      <td>33.000000</td>\n",
       "      <td>1.060000</td>\n",
       "      <td>125.000000</td>\n",
       "    </tr>\n",
       "    <tr>\n",
       "      <th>75%</th>\n",
       "      <td>28686.750000</td>\n",
       "      <td>2.407707e+07</td>\n",
       "      <td>40.763127</td>\n",
       "      <td>-73.930682</td>\n",
       "      <td>170.000000</td>\n",
       "      <td>301.000000</td>\n",
       "      <td>5.000000</td>\n",
       "      <td>79.000000</td>\n",
       "      <td>2.460000</td>\n",
       "      <td>309.000000</td>\n",
       "    </tr>\n",
       "    <tr>\n",
       "      <th>max</th>\n",
       "      <td>35596.000000</td>\n",
       "      <td>3.056528e+07</td>\n",
       "      <td>40.908040</td>\n",
       "      <td>-73.721790</td>\n",
       "      <td>9999.000000</td>\n",
       "      <td>364.000000</td>\n",
       "      <td>1125.000000</td>\n",
       "      <td>675.000000</td>\n",
       "      <td>19.250000</td>\n",
       "      <td>365.000000</td>\n",
       "    </tr>\n",
       "  </tbody>\n",
       "</table>\n",
       "</div>"
      ],
      "text/plain": [
       "                 F1            id       latitud      longitud        precio  \\\n",
       "count  17614.000000  1.761400e+04  17614.000000  17614.000000  17614.000000   \n",
       "mean   18547.564664  1.572032e+07     40.726755    -73.947732    145.455490   \n",
       "std    11000.717341  9.644155e+06      0.056981      0.050213    194.990677   \n",
       "min        0.000000  2.595000e+03     40.508680    -74.239860      0.000000   \n",
       "25%     8192.250000  6.718288e+06     40.686042    -73.980938     70.000000   \n",
       "50%    19496.500000  1.654699e+07     40.720540    -73.953050    109.000000   \n",
       "75%    28686.750000  2.407707e+07     40.763127    -73.930682    170.000000   \n",
       "max    35596.000000  3.056528e+07     40.908040    -73.721790   9999.000000   \n",
       "\n",
       "       dias_ocupados_2019  noches_minimas  numeros_reseñas  reseñas_por_mes  \\\n",
       "count        17614.000000    17614.000000     17614.000000     17614.000000   \n",
       "mean           179.517656        7.392926        56.128988         1.607060   \n",
       "std            130.202015       19.233869        65.972370         1.635528   \n",
       "min              0.000000        1.000000         1.000000         0.010000   \n",
       "25%             35.000000        2.000000         9.000000         0.340000   \n",
       "50%            198.000000        3.000000        33.000000         1.060000   \n",
       "75%            301.000000        5.000000        79.000000         2.460000   \n",
       "max            364.000000     1125.000000       675.000000        19.250000   \n",
       "\n",
       "       disponibilidad_2020  \n",
       "count         17614.000000  \n",
       "mean            154.154763  \n",
       "std             138.079651  \n",
       "min               0.000000  \n",
       "25%               8.000000  \n",
       "50%             125.000000  \n",
       "75%             309.000000  \n",
       "max             365.000000  "
      ]
     },
     "execution_count": 80,
     "metadata": {},
     "output_type": "execute_result"
    }
   ],
   "source": [
    "data.describe()"
   ]
  },
  {
   "cell_type": "markdown",
   "id": "bf70ce60",
   "metadata": {},
   "source": [
    "**Observación | - Hacemos una descripción sobre los datos numericos que contiene el dataset.**\n",
    "* se puede ver que la **latitud media es 40.72 y la longitud -73.94**\n",
    "    * Es decir en el barrio de **Williamsburg**\n",
    "    * Ubicación en el google maps: https://goo.gl/maps/cde7bLuU46ViFQvM7\n",
    "* **Precios de alquiler**. La media es de 145 usd aproximadamente (puede variar entre los 70usd y 170usd) segun zona y tipo de habitaciones. tengamos en cuenta que la mas cara es de 9999usd\n",
    "* La media de **noche minimas** son de 7 (una semana).\n",
    "* Los **numeros sobre las reseñas** va variando y son de 56 pero por una vista rapida no es un valor muy acertado, es mas 33 el numero de reseñas por dpto de al quiler.\n",
    "* La minima de **dias alquilados en todo el 2019** por deptos es de 0 (por que obviamente hay algunos que no fueron alquilados). Pero esto no hay que tenerlo tan en cuenta ya que el impercentil de 25% es de 35 dias y la media de 180 en todo el 2019.\n",
    "* Las **reseñas mensuales** tiene una media de 1.6 \n",
    "* La media de **alquileres diarios disponibles en el 2020** fue de 155 dia disponibles.\n",
    "\n",
    "-------\n",
    "------"
   ]
  },
  {
   "cell_type": "code",
   "execution_count": 81,
   "id": "cadc8546",
   "metadata": {},
   "outputs": [
    {
     "data": {
      "text/plain": [
       "<AxesSubplot:xlabel='disponibilidad_2020', ylabel='Count'>"
      ]
     },
     "execution_count": 81,
     "metadata": {},
     "output_type": "execute_result"
    },
    {
     "data": {
      "image/png": "[encoded data removed]",
      "text/plain": [
       "<Figure size 1500x1500 with 9 Axes>"
      ]
     },
     "metadata": {},
     "output_type": "display_data"
    }
   ],
   "source": [
    "import seaborn as sns\n",
    "\n",
    "#Creamos una series (subplot) de graficos para que esten todos juntos\n",
    "fig,ax = plt.subplots(3,3,figsize=(15,15))\n",
    "sns.set(font_scale =1)\n",
    "sns.histplot(data['latitud'],kde=True,ax=ax[0,0])\n",
    "sns.histplot(data['longitud'],kde=True,ax=ax[0,1])\n",
    "sns.histplot(data['precio'],kde=True,ax=ax[0,2])\n",
    "sns.histplot(data['dias_ocupados_2019'],kde=True,ax=ax[1,0])\n",
    "sns.histplot(data['noches_minimas'],kde=True,ax=ax[1,1])\n",
    "sns.histplot(data['numeros_reseñas'],kde=True,ax=ax[1,2])\n",
    "sns.histplot(data['reseñas_por_mes'],kde=True,ax=ax[2,0])\n",
    "sns.histplot(data['disponibilidad_2020'],kde=True,ax=ax[2,1])\n"
   ]
  },
  {
   "cell_type": "markdown",
   "id": "8b24ca58",
   "metadata": {},
   "source": [
    "**Creamos unos graficos para poder ver mejor como se comportan los datos y ver como van actuando.**\n",
    "\n",
    "-----\n",
    "\n",
    "# Conteo de si el data set tiene valores N/A"
   ]
  },
  {
   "cell_type": "code",
   "execution_count": 82,
   "id": "f9bbac41",
   "metadata": {},
   "outputs": [
    {
     "name": "stdout",
     "output_type": "stream",
     "text": [
      "F1                     0\n",
      "id                     0\n",
      "barrio                 0\n",
      "latitud                0\n",
      "longitud               0\n",
      "tipo_habitacion        0\n",
      "precio                 0\n",
      "dias_ocupados_2019     0\n",
      "noches_minimas         0\n",
      "numeros_reseñas        0\n",
      "reseñas_por_mes        0\n",
      "disponibilidad_2020    0\n",
      "dtype: int64\n",
      "Numeros de filas(17614, 12)columnas\n"
     ]
    }
   ],
   "source": [
    "### Para ver si contiene  valores N/A\n",
    "print(data.isna().sum())\n",
    "### que nos diga cuantas filas y columnas componen el dataset\n",
    "print(f\"Numeros de filas{data.shape}columnas\")"
   ]
  },
  {
   "cell_type": "markdown",
   "id": "fdb2c5eb",
   "metadata": {},
   "source": [
    "----\n",
    "# Hacemos un conteo de los tipos distintos de habitaciónes."
   ]
  },
  {
   "cell_type": "code",
   "execution_count": 83,
   "id": "6f419bcb",
   "metadata": {},
   "outputs": [
    {
     "name": "stdout",
     "output_type": "stream",
     "text": [
      "Cuantos y cuales son los tipos distintos de las habitaciones :\n",
      "\n",
      "Tenemos la habitación de tipo Entire home/apt con una cantidad de 9405.\n",
      "Tenemos la habitación de tipo Private room con una cantidad de 7752.\n",
      "Tenemos la habitación de tipo Shared room con una cantidad de 357.\n",
      "Tenemos la habitación de tipo Hotel room con una cantidad de 100.\n"
     ]
    }
   ],
   "source": [
    "#Creamos un conteo para los distintos tipos de habitacion que contiene el Datasets\n",
    "habitaciones = data[\"tipo_habitacion\"].value_counts()\n",
    "print(\"Cuantos y cuales son los tipos distintos de las habitaciones :\\n\")\n",
    "for habitacion , cantidad in habitaciones.items():\n",
    "    print(f\"Tenemos la habitación de tipo {habitacion} con una cantidad de {cantidad}.\")"
   ]
  },
  {
   "cell_type": "markdown",
   "id": "f54bd2a8",
   "metadata": {},
   "source": [
    "-------\n",
    "# Conteo de los barrios."
   ]
  },
  {
   "cell_type": "code",
   "execution_count": 84,
   "id": "d0cb1a34",
   "metadata": {
    "scrolled": false
   },
   "outputs": [
    {
     "name": "stdout",
     "output_type": "stream",
     "text": [
      "Conteo de lugares y sus respectivos barrios en Nueva Yotk:\n",
      "\n",
      "El barrio Brooklyn se encuentran 3875 lugares para alquilar.\n",
      "El barrio Manhattan se encuentran 3229 lugares para alquilar.\n",
      "El barrio Queens se encuentran 1099 lugares para alquilar.\n",
      "El barrio Bedford-Stuyvesant se encuentran 799 lugares para alquilar.\n",
      "El barrio Harlem se encuentran 632 lugares para alquilar.\n",
      "El barrio Williamsburg se encuentran 615 lugares para alquilar.\n",
      "El barrio Midtown se encuentran 430 lugares para alquilar.\n",
      "El barrio Bushwick se encuentran 361 lugares para alquilar.\n",
      "El barrio Upper West Side se encuentran 292 lugares para alquilar.\n",
      "El barrio Upper East Side se encuentran 291 lugares para alquilar.\n",
      "El barrio Crown Heights se encuentran 262 lugares para alquilar.\n",
      "El barrio Astoria se encuentran 249 lugares para alquilar.\n",
      "El barrio The Bronx se encuentran 247 lugares para alquilar.\n",
      "El barrio East Village se encuentran 239 lugares para alquilar.\n",
      "El barrio Hell's Kitchen se encuentran 213 lugares para alquilar.\n",
      "El barrio Flatbush se encuentran 208 lugares para alquilar.\n",
      "El barrio Lower East Side se encuentran 206 lugares para alquilar.\n",
      "El barrio Greenpoint se encuentran 178 lugares para alquilar.\n",
      "El barrio Jamaica se encuentran 167 lugares para alquilar.\n",
      "El barrio Chelsea se encuentran 167 lugares para alquilar.\n",
      "El barrio East Harlem se encuentran 160 lugares para alquilar.\n",
      "El barrio Clinton Hill se encuentran 155 lugares para alquilar.\n",
      "El barrio Park Slope se encuentran 150 lugares para alquilar.\n",
      "El barrio Hamilton Heights se encuentran 134 lugares para alquilar.\n",
      "El barrio Washington Heights se encuentran 132 lugares para alquilar.\n",
      "El barrio Midtown East se encuentran 124 lugares para alquilar.\n",
      "El barrio Flushing se encuentran 114 lugares para alquilar.\n",
      "El barrio The Rockaways se encuentran 108 lugares para alquilar.\n",
      "El barrio West Village se encuentran 99 lugares para alquilar.\n",
      "El barrio East New York se encuentran 98 lugares para alquilar.\n",
      "El barrio Fort Greene se encuentran 93 lugares para alquilar.\n",
      "El barrio Staten Island se encuentran 92 lugares para alquilar.\n",
      "El barrio East Flatbush se encuentran 86 lugares para alquilar.\n",
      "El barrio Alphabet City se encuentran 82 lugares para alquilar.\n",
      "El barrio Sunnyside se encuentran 82 lugares para alquilar.\n",
      "El barrio Lefferts Garden se encuentran 72 lugares para alquilar.\n",
      "El barrio Financial District se encuentran 70 lugares para alquilar.\n",
      "El barrio Ridgewood se encuentran 66 lugares para alquilar.\n",
      "El barrio Sunset Park se encuentran 65 lugares para alquilar.\n",
      "El barrio Prospect Heights se encuentran 64 lugares para alquilar.\n",
      "El barrio Kips Bay se encuentran 62 lugares para alquilar.\n",
      "El barrio Chinatown se encuentran 58 lugares para alquilar.\n",
      "El barrio Jackson Heights se encuentran 52 lugares para alquilar.\n",
      "El barrio Gowanus se encuentran 52 lugares para alquilar.\n",
      "El barrio Canarsie se encuentran 47 lugares para alquilar.\n",
      "El barrio Greenwich Village se encuentran 46 lugares para alquilar.\n",
      "El barrio Gramercy Park se encuentran 45 lugares para alquilar.\n",
      "El barrio Greenwood Heights se encuentran 44 lugares para alquilar.\n",
      "El barrio Bay Ridge se encuentran 44 lugares para alquilar.\n",
      "El barrio Soho se encuentran 44 lugares para alquilar.\n",
      "El barrio Elmhurst se encuentran 41 lugares para alquilar.\n",
      "El barrio Long Island City se encuentran 37 lugares para alquilar.\n",
      "El barrio Murray Hill se encuentran 37 lugares para alquilar.\n",
      "El barrio Inwood se encuentran 37 lugares para alquilar.\n",
      "El barrio Carroll Gardens se encuentran 36 lugares para alquilar.\n",
      "El barrio Richmond Hill se encuentran 36 lugares para alquilar.\n",
      "El barrio Boerum Hill se encuentran 35 lugares para alquilar.\n",
      "El barrio Flatiron District se encuentran 33 lugares para alquilar.\n",
      "El barrio Forest Hills se encuentran 32 lugares para alquilar.\n",
      "El barrio Ditmars / Steinway se encuentran 32 lugares para alquilar.\n",
      "El barrio Woodside se encuentran 31 lugares para alquilar.\n",
      "El barrio Corona se encuentran 31 lugares para alquilar.\n",
      "El barrio Windsor Terrace se encuentran 27 lugares para alquilar.\n",
      "El barrio Tribeca se encuentran 26 lugares para alquilar.\n",
      "El barrio Sheepshead Bay se encuentran 25 lugares para alquilar.\n",
      "El barrio Nolita se encuentran 23 lugares para alquilar.\n",
      "El barrio Baychester se encuentran 23 lugares para alquilar.\n",
      "El barrio Morningside Heights se encuentran 23 lugares para alquilar.\n",
      "El barrio Maspeth se encuentran 23 lugares para alquilar.\n",
      "El barrio Woodhaven se encuentran 22 lugares para alquilar.\n",
      "El barrio East Elmhurst se encuentran 22 lugares para alquilar.\n",
      "El barrio Kensington se encuentran 21 lugares para alquilar.\n",
      "El barrio Midwood se encuentran 20 lugares para alquilar.\n",
      "El barrio Roosevelt Island se encuentran 20 lugares para alquilar.\n",
      "El barrio Red Hook se encuentran 19 lugares para alquilar.\n",
      "El barrio Mott Haven se encuentran 18 lugares para alquilar.\n",
      "El barrio Times Square/Theatre District se encuentran 17 lugares para alquilar.\n",
      "El barrio Concourse se encuentran 17 lugares para alquilar.\n",
      "El barrio Flatlands se encuentran 16 lugares para alquilar.\n",
      "El barrio West Brighton se encuentran 15 lugares para alquilar.\n",
      "El barrio St. George se encuentran 15 lugares para alquilar.\n",
      "El barrio Brooklyn Heights se encuentran 14 lugares para alquilar.\n",
      "El barrio Gravesend se encuentran 14 lugares para alquilar.\n",
      "El barrio DUMBO se encuentran 13 lugares para alquilar.\n",
      "El barrio Glendale se encuentran 12 lugares para alquilar.\n",
      "El barrio Bayside se encuentran 12 lugares para alquilar.\n",
      "El barrio Bensonhurst se encuentran 12 lugares para alquilar.\n",
      "El barrio Brooklyn Navy Yard se encuentran 11 lugares para alquilar.\n",
      "El barrio Ozone Park se encuentran 11 lugares para alquilar.\n",
      "El barrio Port Morris se encuentran 11 lugares para alquilar.\n",
      "El barrio Middle Village se encuentran 11 lugares para alquilar.\n",
      "El barrio Downtown Brooklyn se encuentran 10 lugares para alquilar.\n",
      "El barrio Cobble Hill se encuentran 10 lugares para alquilar.\n",
      "El barrio Wakefield se encuentran 10 lugares para alquilar.\n",
      "El barrio Manhattan Beach se encuentran 9 lugares para alquilar.\n",
      "El barrio Kingsbridge Heights se encuentran 9 lugares para alquilar.\n",
      "El barrio Rego Park se encuentran 9 lugares para alquilar.\n",
      "El barrio Bedford Park se encuentran 9 lugares para alquilar.\n",
      "El barrio Tremont se encuentran 9 lugares para alquilar.\n",
      "El barrio Concourse Village se encuentran 9 lugares para alquilar.\n",
      "El barrio Stapleton se encuentran 9 lugares para alquilar.\n",
      "El barrio South Ozone Park se encuentran 8 lugares para alquilar.\n",
      "El barrio Brighton Beach se encuentran 8 lugares para alquilar.\n",
      "El barrio Grymes Hill se encuentran 7 lugares para alquilar.\n",
      "El barrio Parkchester se encuentran 7 lugares para alquilar.\n",
      "El barrio Highbridge se encuentran 7 lugares para alquilar.\n",
      "El barrio Kew Garden Hills se encuentran 7 lugares para alquilar.\n",
      "El barrio Borough Park se encuentran 7 lugares para alquilar.\n",
      "El barrio Noho se encuentran 7 lugares para alquilar.\n",
      "El barrio College Point se encuentran 7 lugares para alquilar.\n",
      "El barrio Williamsbridge se encuentran 7 lugares para alquilar.\n",
      "El barrio Union Square se encuentran 6 lugares para alquilar.\n",
      "El barrio Brownsville se encuentran 6 lugares para alquilar.\n",
      "El barrio Riverdale se encuentran 6 lugares para alquilar.\n",
      "El barrio City Island se encuentran 6 lugares para alquilar.\n",
      "El barrio Tompkinsville se encuentran 6 lugares para alquilar.\n",
      "El barrio Throgs Neck se encuentran 6 lugares para alquilar.\n",
      "El barrio Park Versailles se encuentran 6 lugares para alquilar.\n",
      "El barrio Soundview se encuentran 6 lugares para alquilar.\n",
      "El barrio Grasmere se encuentran 5 lugares para alquilar.\n",
      "El barrio University Heights se encuentran 5 lugares para alquilar.\n",
      "El barrio Edenwald se encuentran 5 lugares para alquilar.\n",
      "El barrio Kingsbridge se encuentran 5 lugares para alquilar.\n",
      "El barrio Little Italy se encuentran 5 lugares para alquilar.\n",
      "El barrio Columbia Street Waterfront se encuentran 5 lugares para alquilar.\n",
      "El barrio Morris Heights se encuentran 5 lugares para alquilar.\n",
      "El barrio Coney Island se encuentran 5 lugares para alquilar.\n",
      "El barrio Utopia se encuentran 5 lugares para alquilar.\n",
      "El barrio Morris Park se encuentran 5 lugares para alquilar.\n",
      "El barrio Whitestone se encuentran 5 lugares para alquilar.\n",
      "El barrio Allerton se encuentran 5 lugares para alquilar.\n",
      "El barrio Bronxdale se encuentran 4 lugares para alquilar.\n",
      "El barrio Dyker Heights se encuentran 4 lugares para alquilar.\n",
      "El barrio Elm Park se encuentran 4 lugares para alquilar.\n",
      "El barrio Hillcrest se encuentran 4 lugares para alquilar.\n",
      "El barrio South Beach se encuentran 4 lugares para alquilar.\n",
      "El barrio Fordham se encuentran 4 lugares para alquilar.\n",
      "El barrio Pelham Bay se encuentran 3 lugares para alquilar.\n",
      "El barrio Great Kills se encuentran 3 lugares para alquilar.\n",
      "El barrio Bath Beach se encuentran 3 lugares para alquilar.\n",
      "El barrio Hunts Point se encuentran 3 lugares para alquilar.\n",
      "El barrio Concord se encuentran 3 lugares para alquilar.\n",
      "El barrio Fresh Meadows se encuentran 3 lugares para alquilar.\n",
      "El barrio Longwood se encuentran 3 lugares para alquilar.\n",
      "El barrio Eastchester se encuentran 3 lugares para alquilar.\n",
      "El barrio Port Richmond se encuentran 3 lugares para alquilar.\n",
      "El barrio Hudson Square se encuentran 3 lugares para alquilar.\n",
      "El barrio Howard Beach se encuentran 3 lugares para alquilar.\n",
      "El barrio Civic Center se encuentran 3 lugares para alquilar.\n",
      "El barrio New Springville se encuentran 2 lugares para alquilar.\n",
      "El barrio Meatpacking District se encuentran 2 lugares para alquilar.\n",
      "El barrio Norwood se encuentran 2 lugares para alquilar.\n",
      "El barrio Melrose se encuentran 2 lugares para alquilar.\n",
      "El barrio Tottenville se encuentran 2 lugares para alquilar.\n",
      "El barrio Claremont se encuentran 2 lugares para alquilar.\n",
      "El barrio Lindenwood se encuentran 2 lugares para alquilar.\n",
      "El barrio Mariners Harbor se encuentran 2 lugares para alquilar.\n",
      "El barrio Crotona se encuentran 2 lugares para alquilar.\n",
      "El barrio South Street Seaport se encuentran 2 lugares para alquilar.\n",
      "El barrio Grant City se encuentran 2 lugares para alquilar.\n",
      "El barrio Morrisania se encuentran 2 lugares para alquilar.\n",
      "El barrio Battery Park City se encuentran 2 lugares para alquilar.\n",
      "El barrio Bergen Beach se encuentran 2 lugares para alquilar.\n",
      "El barrio Westerleigh se encuentran 1 lugares para alquilar.\n",
      "El barrio New Dorp Beach se encuentran 1 lugares para alquilar.\n",
      "El barrio Westchester Village se encuentran 1 lugares para alquilar.\n",
      "El barrio Randall Manor se encuentran 1 lugares para alquilar.\n",
      "El barrio Woodlawn se encuentran 1 lugares para alquilar.\n",
      "El barrio Spuyten Duyvil se encuentran 1 lugares para alquilar.\n",
      "El barrio Rosebank se encuentran 1 lugares para alquilar.\n",
      "El barrio Graniteville se encuentran 1 lugares para alquilar.\n",
      "El barrio Mount Eden se encuentran 1 lugares para alquilar.\n",
      "El barrio Dongan Hills se encuentran 1 lugares para alquilar.\n",
      "El barrio New Brighton se encuentran 1 lugares para alquilar.\n",
      "El barrio Castle Hill se encuentran 1 lugares para alquilar.\n",
      "El barrio Eltingville se encuentran 1 lugares para alquilar.\n",
      "El barrio Annadale se encuentran 1 lugares para alquilar.\n",
      "El barrio Country Club se encuentran 1 lugares para alquilar.\n",
      "El barrio Fort Wadsworth se encuentran 1 lugares para alquilar.\n",
      "El barrio Lighthouse HIll se encuentran 1 lugares para alquilar.\n",
      "El barrio Greenridge se encuentran 1 lugares para alquilar.\n",
      "El barrio Sea Gate se encuentran 1 lugares para alquilar.\n",
      "El barrio Marble Hill se encuentran 1 lugares para alquilar.\n",
      "El barrio Midland Beach se encuentran 1 lugares para alquilar.\n",
      "El barrio Mill Basin se encuentran 1 lugares para alquilar.\n",
      "El barrio Van Nest se encuentran 1 lugares para alquilar.\n"
     ]
    }
   ],
   "source": [
    "#Conteo de los barrios. Creamos un bucle para que nos vaya contando e itarando por barrio y cantidad\n",
    "barrios = data[\"barrio\"].value_counts()\n",
    "print(\"Conteo de lugares y sus respectivos barrios en Nueva Yotk:\\n\")\n",
    "for barrio , cantidad in barrios.items():\n",
    "    print(f\"El barrio {barrio} se encuentran {cantidad} lugares para alquilar.\")"
   ]
  },
  {
   "cell_type": "markdown",
   "id": "6e657258",
   "metadata": {},
   "source": [
    "**Observación**\n",
    "* Tenemos 186 barrios en toda la ciudad de NY\n",
    "* Obtuvimos una lista muy extensa sobre los lugares de alquiler y sus respectivos barrios\n",
    "    * Tengamos en cuenta que son 17614 filas u tipos de datos de alquileres en la ciudad de NY\n",
    "    -----\n",
    "  \n",
    "# Miraremos la correlacion que tienen entre si las variables."
   ]
  },
  {
   "cell_type": "code",
   "execution_count": 9,
   "id": "d090d521",
   "metadata": {
    "scrolled": false
   },
   "outputs": [
    {
     "name": "stderr",
     "output_type": "stream",
     "text": [
      "C:\\Users\\Acer\\AppData\\Local\\Temp\\ipykernel_16424\\949936012.py:1: FutureWarning: The default value of numeric_only in DataFrame.corr is deprecated. In a future version, it will default to False. Select only valid columns or specify the value of numeric_only to silence this warning.\n",
      "  correlacion = data.corr()\n"
     ]
    },
    {
     "data": {
      "image/png": "[encoded data removed]",
      "text/plain": [
       "<Figure size 1500x1000 with 2 Axes>"
      ]
     },
     "metadata": {},
     "output_type": "display_data"
    }
   ],
   "source": [
    "correlacion = data.corr()\n",
    "plt.figure(figsize=(15,10))\n",
    "sns.heatmap(correlacion, annot=True , fmt='.2f' , cmap=plt.cm.coolwarm_r)\n",
    "plt.show()"
   ]
  },
  {
   "cell_type": "markdown",
   "id": "673d8136",
   "metadata": {},
   "source": [
    "**Observación**\n",
    "* Las \"unicas\" variables que estan altamente correlacionadas con un **%75** son: **Las reseñas por mes y Numeros de reseñas**.\n",
    "* Luego se puede observar que los **Dias ocupados en 2019** tiene una baja correlacion con el **ID** del lugar. solamente un **%22.** \n",
    "* Tambien vemos que **Reseñas por mes y ID** tiene una correlacion baja de **%13.** Lo mismo pasa con la **Longitud y Reseñas por mes.**\n",
    "* Esto siver para ver que variables podremos usar para nuestros modelos predictorios\n",
    "\n",
    "-----\n",
    "# Crearemos una variable dummi para los barrios (pasarlos a valores numericos)."
   ]
  },
  {
   "cell_type": "code",
   "execution_count": 10,
   "id": "de2c346c",
   "metadata": {
    "scrolled": true
   },
   "outputs": [
    {
     "data": {
      "text/html": [
       "<div>\n",
       "<style scoped>\n",
       "    .dataframe tbody tr th:only-of-type {\n",
       "        vertical-align: middle;\n",
       "    }\n",
       "\n",
       "    .dataframe tbody tr th {\n",
       "        vertical-align: top;\n",
       "    }\n",
       "\n",
       "    .dataframe thead th {\n",
       "        text-align: right;\n",
       "    }\n",
       "</style>\n",
       "<table border=\"1\" class=\"dataframe\">\n",
       "  <thead>\n",
       "    <tr style=\"text-align: right;\">\n",
       "      <th></th>\n",
       "      <th>barrio_Allerton</th>\n",
       "      <th>barrio_Alphabet City</th>\n",
       "      <th>barrio_Annadale</th>\n",
       "      <th>barrio_Astoria</th>\n",
       "      <th>barrio_Bath Beach</th>\n",
       "      <th>barrio_Battery Park City</th>\n",
       "      <th>barrio_Bay Ridge</th>\n",
       "      <th>barrio_Baychester</th>\n",
       "      <th>barrio_Bayside</th>\n",
       "      <th>barrio_Bedford Park</th>\n",
       "      <th>...</th>\n",
       "      <th>barrio_West Village</th>\n",
       "      <th>barrio_Westchester Village</th>\n",
       "      <th>barrio_Westerleigh</th>\n",
       "      <th>barrio_Whitestone</th>\n",
       "      <th>barrio_Williamsbridge</th>\n",
       "      <th>barrio_Williamsburg</th>\n",
       "      <th>barrio_Windsor Terrace</th>\n",
       "      <th>barrio_Woodhaven</th>\n",
       "      <th>barrio_Woodlawn</th>\n",
       "      <th>barrio_Woodside</th>\n",
       "    </tr>\n",
       "  </thead>\n",
       "  <tbody>\n",
       "    <tr>\n",
       "      <th>0</th>\n",
       "      <td>0</td>\n",
       "      <td>0</td>\n",
       "      <td>0</td>\n",
       "      <td>0</td>\n",
       "      <td>0</td>\n",
       "      <td>0</td>\n",
       "      <td>0</td>\n",
       "      <td>0</td>\n",
       "      <td>0</td>\n",
       "      <td>0</td>\n",
       "      <td>...</td>\n",
       "      <td>0</td>\n",
       "      <td>0</td>\n",
       "      <td>0</td>\n",
       "      <td>0</td>\n",
       "      <td>0</td>\n",
       "      <td>0</td>\n",
       "      <td>0</td>\n",
       "      <td>0</td>\n",
       "      <td>0</td>\n",
       "      <td>0</td>\n",
       "    </tr>\n",
       "    <tr>\n",
       "      <th>1</th>\n",
       "      <td>0</td>\n",
       "      <td>0</td>\n",
       "      <td>0</td>\n",
       "      <td>0</td>\n",
       "      <td>0</td>\n",
       "      <td>0</td>\n",
       "      <td>0</td>\n",
       "      <td>0</td>\n",
       "      <td>0</td>\n",
       "      <td>0</td>\n",
       "      <td>...</td>\n",
       "      <td>0</td>\n",
       "      <td>0</td>\n",
       "      <td>0</td>\n",
       "      <td>0</td>\n",
       "      <td>0</td>\n",
       "      <td>0</td>\n",
       "      <td>0</td>\n",
       "      <td>0</td>\n",
       "      <td>0</td>\n",
       "      <td>0</td>\n",
       "    </tr>\n",
       "    <tr>\n",
       "      <th>2</th>\n",
       "      <td>0</td>\n",
       "      <td>0</td>\n",
       "      <td>0</td>\n",
       "      <td>0</td>\n",
       "      <td>0</td>\n",
       "      <td>0</td>\n",
       "      <td>0</td>\n",
       "      <td>0</td>\n",
       "      <td>0</td>\n",
       "      <td>0</td>\n",
       "      <td>...</td>\n",
       "      <td>0</td>\n",
       "      <td>0</td>\n",
       "      <td>0</td>\n",
       "      <td>0</td>\n",
       "      <td>0</td>\n",
       "      <td>0</td>\n",
       "      <td>0</td>\n",
       "      <td>0</td>\n",
       "      <td>0</td>\n",
       "      <td>0</td>\n",
       "    </tr>\n",
       "    <tr>\n",
       "      <th>3</th>\n",
       "      <td>0</td>\n",
       "      <td>0</td>\n",
       "      <td>0</td>\n",
       "      <td>0</td>\n",
       "      <td>0</td>\n",
       "      <td>0</td>\n",
       "      <td>0</td>\n",
       "      <td>0</td>\n",
       "      <td>0</td>\n",
       "      <td>0</td>\n",
       "      <td>...</td>\n",
       "      <td>0</td>\n",
       "      <td>0</td>\n",
       "      <td>0</td>\n",
       "      <td>0</td>\n",
       "      <td>0</td>\n",
       "      <td>0</td>\n",
       "      <td>0</td>\n",
       "      <td>0</td>\n",
       "      <td>0</td>\n",
       "      <td>0</td>\n",
       "    </tr>\n",
       "    <tr>\n",
       "      <th>4</th>\n",
       "      <td>0</td>\n",
       "      <td>0</td>\n",
       "      <td>0</td>\n",
       "      <td>0</td>\n",
       "      <td>0</td>\n",
       "      <td>0</td>\n",
       "      <td>0</td>\n",
       "      <td>0</td>\n",
       "      <td>0</td>\n",
       "      <td>0</td>\n",
       "      <td>...</td>\n",
       "      <td>0</td>\n",
       "      <td>0</td>\n",
       "      <td>0</td>\n",
       "      <td>0</td>\n",
       "      <td>0</td>\n",
       "      <td>0</td>\n",
       "      <td>0</td>\n",
       "      <td>0</td>\n",
       "      <td>0</td>\n",
       "      <td>0</td>\n",
       "    </tr>\n",
       "  </tbody>\n",
       "</table>\n",
       "<p>5 rows × 186 columns</p>\n",
       "</div>"
      ],
      "text/plain": [
       "   barrio_Allerton  barrio_Alphabet City  barrio_Annadale  barrio_Astoria  \\\n",
       "0                0                     0                0               0   \n",
       "1                0                     0                0               0   \n",
       "2                0                     0                0               0   \n",
       "3                0                     0                0               0   \n",
       "4                0                     0                0               0   \n",
       "\n",
       "   barrio_Bath Beach  barrio_Battery Park City  barrio_Bay Ridge  \\\n",
       "0                  0                         0                 0   \n",
       "1                  0                         0                 0   \n",
       "2                  0                         0                 0   \n",
       "3                  0                         0                 0   \n",
       "4                  0                         0                 0   \n",
       "\n",
       "   barrio_Baychester  barrio_Bayside  barrio_Bedford Park  ...  \\\n",
       "0                  0               0                    0  ...   \n",
       "1                  0               0                    0  ...   \n",
       "2                  0               0                    0  ...   \n",
       "3                  0               0                    0  ...   \n",
       "4                  0               0                    0  ...   \n",
       "\n",
       "   barrio_West Village  barrio_Westchester Village  barrio_Westerleigh  \\\n",
       "0                    0                           0                   0   \n",
       "1                    0                           0                   0   \n",
       "2                    0                           0                   0   \n",
       "3                    0                           0                   0   \n",
       "4                    0                           0                   0   \n",
       "\n",
       "   barrio_Whitestone  barrio_Williamsbridge  barrio_Williamsburg  \\\n",
       "0                  0                      0                    0   \n",
       "1                  0                      0                    0   \n",
       "2                  0                      0                    0   \n",
       "3                  0                      0                    0   \n",
       "4                  0                      0                    0   \n",
       "\n",
       "   barrio_Windsor Terrace  barrio_Woodhaven  barrio_Woodlawn  barrio_Woodside  \n",
       "0                       0                 0                0                0  \n",
       "1                       0                 0                0                0  \n",
       "2                       0                 0                0                0  \n",
       "3                       0                 0                0                0  \n",
       "4                       0                 0                0                0  \n",
       "\n",
       "[5 rows x 186 columns]"
      ]
     },
     "execution_count": 10,
     "metadata": {},
     "output_type": "execute_result"
    }
   ],
   "source": [
    "barrios_dummy = pd.get_dummies(data[\"barrio\"], prefix=\"barrio\")\n",
    "barrios_dummy.head()"
   ]
  },
  {
   "cell_type": "markdown",
   "id": "0bb0108c",
   "metadata": {},
   "source": [
    "# Crearemos también una variable dummi para los 4 tipos distintos de habitación.\n",
    "----\n"
   ]
  },
  {
   "cell_type": "code",
   "execution_count": 11,
   "id": "ba0dff2e",
   "metadata": {
    "scrolled": true
   },
   "outputs": [
    {
     "data": {
      "text/html": [
       "<div>\n",
       "<style scoped>\n",
       "    .dataframe tbody tr th:only-of-type {\n",
       "        vertical-align: middle;\n",
       "    }\n",
       "\n",
       "    .dataframe tbody tr th {\n",
       "        vertical-align: top;\n",
       "    }\n",
       "\n",
       "    .dataframe thead th {\n",
       "        text-align: right;\n",
       "    }\n",
       "</style>\n",
       "<table border=\"1\" class=\"dataframe\">\n",
       "  <thead>\n",
       "    <tr style=\"text-align: right;\">\n",
       "      <th></th>\n",
       "      <th>F1</th>\n",
       "      <th>id</th>\n",
       "      <th>barrio</th>\n",
       "      <th>latitud</th>\n",
       "      <th>longitud</th>\n",
       "      <th>precio</th>\n",
       "      <th>dias_ocupados_2019</th>\n",
       "      <th>noches_minimas</th>\n",
       "      <th>numeros_reseñas</th>\n",
       "      <th>reseñas_por_mes</th>\n",
       "      <th>disponibilidad_2020</th>\n",
       "      <th>habitacion_Entire home/apt</th>\n",
       "      <th>habitacion_Hotel room</th>\n",
       "      <th>habitacion_Private room</th>\n",
       "      <th>habitacion_Shared room</th>\n",
       "    </tr>\n",
       "  </thead>\n",
       "  <tbody>\n",
       "    <tr>\n",
       "      <th>0</th>\n",
       "      <td>0</td>\n",
       "      <td>2595</td>\n",
       "      <td>Midtown</td>\n",
       "      <td>40.75362</td>\n",
       "      <td>-73.98377</td>\n",
       "      <td>225</td>\n",
       "      <td>15</td>\n",
       "      <td>10</td>\n",
       "      <td>48</td>\n",
       "      <td>0.39</td>\n",
       "      <td>1</td>\n",
       "      <td>1</td>\n",
       "      <td>0</td>\n",
       "      <td>0</td>\n",
       "      <td>0</td>\n",
       "    </tr>\n",
       "    <tr>\n",
       "      <th>1</th>\n",
       "      <td>1</td>\n",
       "      <td>3831</td>\n",
       "      <td>Brooklyn</td>\n",
       "      <td>40.68514</td>\n",
       "      <td>-73.95976</td>\n",
       "      <td>89</td>\n",
       "      <td>188</td>\n",
       "      <td>1</td>\n",
       "      <td>295</td>\n",
       "      <td>4.67</td>\n",
       "      <td>1</td>\n",
       "      <td>1</td>\n",
       "      <td>0</td>\n",
       "      <td>0</td>\n",
       "      <td>0</td>\n",
       "    </tr>\n",
       "    <tr>\n",
       "      <th>2</th>\n",
       "      <td>2</td>\n",
       "      <td>5099</td>\n",
       "      <td>Manhattan</td>\n",
       "      <td>40.74767</td>\n",
       "      <td>-73.97500</td>\n",
       "      <td>200</td>\n",
       "      <td>362</td>\n",
       "      <td>3</td>\n",
       "      <td>78</td>\n",
       "      <td>0.60</td>\n",
       "      <td>19</td>\n",
       "      <td>1</td>\n",
       "      <td>0</td>\n",
       "      <td>0</td>\n",
       "      <td>0</td>\n",
       "    </tr>\n",
       "    <tr>\n",
       "      <th>3</th>\n",
       "      <td>3</td>\n",
       "      <td>5121</td>\n",
       "      <td>Bedford-Stuyvesant</td>\n",
       "      <td>40.68688</td>\n",
       "      <td>-73.95596</td>\n",
       "      <td>60</td>\n",
       "      <td>0</td>\n",
       "      <td>29</td>\n",
       "      <td>49</td>\n",
       "      <td>0.38</td>\n",
       "      <td>365</td>\n",
       "      <td>0</td>\n",
       "      <td>0</td>\n",
       "      <td>1</td>\n",
       "      <td>0</td>\n",
       "    </tr>\n",
       "    <tr>\n",
       "      <th>4</th>\n",
       "      <td>4</td>\n",
       "      <td>5178</td>\n",
       "      <td>Manhattan</td>\n",
       "      <td>40.76489</td>\n",
       "      <td>-73.98493</td>\n",
       "      <td>79</td>\n",
       "      <td>141</td>\n",
       "      <td>2</td>\n",
       "      <td>454</td>\n",
       "      <td>3.52</td>\n",
       "      <td>242</td>\n",
       "      <td>0</td>\n",
       "      <td>0</td>\n",
       "      <td>1</td>\n",
       "      <td>0</td>\n",
       "    </tr>\n",
       "  </tbody>\n",
       "</table>\n",
       "</div>"
      ],
      "text/plain": [
       "   F1    id              barrio   latitud  longitud  precio  \\\n",
       "0   0  2595             Midtown  40.75362 -73.98377     225   \n",
       "1   1  3831            Brooklyn  40.68514 -73.95976      89   \n",
       "2   2  5099           Manhattan  40.74767 -73.97500     200   \n",
       "3   3  5121  Bedford-Stuyvesant  40.68688 -73.95596      60   \n",
       "4   4  5178           Manhattan  40.76489 -73.98493      79   \n",
       "\n",
       "   dias_ocupados_2019  noches_minimas  numeros_reseñas  reseñas_por_mes  \\\n",
       "0                  15              10               48             0.39   \n",
       "1                 188               1              295             4.67   \n",
       "2                 362               3               78             0.60   \n",
       "3                   0              29               49             0.38   \n",
       "4                 141               2              454             3.52   \n",
       "\n",
       "   disponibilidad_2020  habitacion_Entire home/apt  habitacion_Hotel room  \\\n",
       "0                    1                           1                      0   \n",
       "1                    1                           1                      0   \n",
       "2                   19                           1                      0   \n",
       "3                  365                           0                      0   \n",
       "4                  242                           0                      0   \n",
       "\n",
       "   habitacion_Private room  habitacion_Shared room  \n",
       "0                        0                       0  \n",
       "1                        0                       0  \n",
       "2                        0                       0  \n",
       "3                        1                       0  \n",
       "4                        1                       0  "
      ]
     },
     "execution_count": 11,
     "metadata": {},
     "output_type": "execute_result"
    }
   ],
   "source": [
    "habitaciones_dummy = pd.get_dummies(data[\"tipo_habitacion\"] , prefix=\"habitacion\")\n",
    "habitaciones_dummy.head()\n",
    "\n",
    "#ahora lo concatenaremos a al dataset original\n",
    "\n",
    "data_habitacion_dummy = pd.concat([data,habitaciones_dummy], axis=1)\n",
    "data_habitacion_dummy = data_habitacion_dummy.drop([\"tipo_habitacion\"], axis=1)\n",
    "data_habitacion_dummy.head()"
   ]
  },
  {
   "cell_type": "code",
   "execution_count": 12,
   "id": "ced91455",
   "metadata": {},
   "outputs": [
    {
     "data": {
      "text/html": [
       "<div>\n",
       "<style scoped>\n",
       "    .dataframe tbody tr th:only-of-type {\n",
       "        vertical-align: middle;\n",
       "    }\n",
       "\n",
       "    .dataframe tbody tr th {\n",
       "        vertical-align: top;\n",
       "    }\n",
       "\n",
       "    .dataframe thead th {\n",
       "        text-align: right;\n",
       "    }\n",
       "</style>\n",
       "<table border=\"1\" class=\"dataframe\">\n",
       "  <thead>\n",
       "    <tr style=\"text-align: right;\">\n",
       "      <th></th>\n",
       "      <th>F1</th>\n",
       "      <th>id</th>\n",
       "      <th>barrio</th>\n",
       "      <th>latitud</th>\n",
       "      <th>longitud</th>\n",
       "      <th>precio</th>\n",
       "      <th>dias_ocupados_2019</th>\n",
       "      <th>noches_minimas</th>\n",
       "      <th>numeros_reseñas</th>\n",
       "      <th>reseñas_por_mes</th>\n",
       "      <th>disponibilidad_2020</th>\n",
       "      <th>habitacion_Entire home/apt</th>\n",
       "      <th>habitacion_Hotel room</th>\n",
       "      <th>habitacion_Private room</th>\n",
       "      <th>habitacion_Shared room</th>\n",
       "    </tr>\n",
       "  </thead>\n",
       "  <tbody>\n",
       "    <tr>\n",
       "      <th>0</th>\n",
       "      <td>0</td>\n",
       "      <td>2595</td>\n",
       "      <td>Midtown</td>\n",
       "      <td>40.75362</td>\n",
       "      <td>-73.98377</td>\n",
       "      <td>225</td>\n",
       "      <td>15</td>\n",
       "      <td>10</td>\n",
       "      <td>48</td>\n",
       "      <td>0.39</td>\n",
       "      <td>1</td>\n",
       "      <td>1</td>\n",
       "      <td>0</td>\n",
       "      <td>0</td>\n",
       "      <td>0</td>\n",
       "    </tr>\n",
       "    <tr>\n",
       "      <th>1</th>\n",
       "      <td>1</td>\n",
       "      <td>3831</td>\n",
       "      <td>Brooklyn</td>\n",
       "      <td>40.68514</td>\n",
       "      <td>-73.95976</td>\n",
       "      <td>89</td>\n",
       "      <td>188</td>\n",
       "      <td>1</td>\n",
       "      <td>295</td>\n",
       "      <td>4.67</td>\n",
       "      <td>1</td>\n",
       "      <td>1</td>\n",
       "      <td>0</td>\n",
       "      <td>0</td>\n",
       "      <td>0</td>\n",
       "    </tr>\n",
       "    <tr>\n",
       "      <th>2</th>\n",
       "      <td>2</td>\n",
       "      <td>5099</td>\n",
       "      <td>Manhattan</td>\n",
       "      <td>40.74767</td>\n",
       "      <td>-73.97500</td>\n",
       "      <td>200</td>\n",
       "      <td>362</td>\n",
       "      <td>3</td>\n",
       "      <td>78</td>\n",
       "      <td>0.60</td>\n",
       "      <td>19</td>\n",
       "      <td>1</td>\n",
       "      <td>0</td>\n",
       "      <td>0</td>\n",
       "      <td>0</td>\n",
       "    </tr>\n",
       "    <tr>\n",
       "      <th>3</th>\n",
       "      <td>3</td>\n",
       "      <td>5121</td>\n",
       "      <td>Bedford-Stuyvesant</td>\n",
       "      <td>40.68688</td>\n",
       "      <td>-73.95596</td>\n",
       "      <td>60</td>\n",
       "      <td>0</td>\n",
       "      <td>29</td>\n",
       "      <td>49</td>\n",
       "      <td>0.38</td>\n",
       "      <td>365</td>\n",
       "      <td>0</td>\n",
       "      <td>0</td>\n",
       "      <td>1</td>\n",
       "      <td>0</td>\n",
       "    </tr>\n",
       "    <tr>\n",
       "      <th>4</th>\n",
       "      <td>4</td>\n",
       "      <td>5178</td>\n",
       "      <td>Manhattan</td>\n",
       "      <td>40.76489</td>\n",
       "      <td>-73.98493</td>\n",
       "      <td>79</td>\n",
       "      <td>141</td>\n",
       "      <td>2</td>\n",
       "      <td>454</td>\n",
       "      <td>3.52</td>\n",
       "      <td>242</td>\n",
       "      <td>0</td>\n",
       "      <td>0</td>\n",
       "      <td>1</td>\n",
       "      <td>0</td>\n",
       "    </tr>\n",
       "  </tbody>\n",
       "</table>\n",
       "</div>"
      ],
      "text/plain": [
       "   F1    id              barrio   latitud  longitud  precio  \\\n",
       "0   0  2595             Midtown  40.75362 -73.98377     225   \n",
       "1   1  3831            Brooklyn  40.68514 -73.95976      89   \n",
       "2   2  5099           Manhattan  40.74767 -73.97500     200   \n",
       "3   3  5121  Bedford-Stuyvesant  40.68688 -73.95596      60   \n",
       "4   4  5178           Manhattan  40.76489 -73.98493      79   \n",
       "\n",
       "   dias_ocupados_2019  noches_minimas  numeros_reseñas  reseñas_por_mes  \\\n",
       "0                  15              10               48             0.39   \n",
       "1                 188               1              295             4.67   \n",
       "2                 362               3               78             0.60   \n",
       "3                   0              29               49             0.38   \n",
       "4                 141               2              454             3.52   \n",
       "\n",
       "   disponibilidad_2020  habitacion_Entire home/apt  habitacion_Hotel room  \\\n",
       "0                    1                           1                      0   \n",
       "1                    1                           1                      0   \n",
       "2                   19                           1                      0   \n",
       "3                  365                           0                      0   \n",
       "4                  242                           0                      0   \n",
       "\n",
       "   habitacion_Private room  habitacion_Shared room  \n",
       "0                        0                       0  \n",
       "1                        0                       0  \n",
       "2                        0                       0  \n",
       "3                        1                       0  \n",
       "4                        1                       0  "
      ]
     },
     "execution_count": 12,
     "metadata": {},
     "output_type": "execute_result"
    }
   ],
   "source": [
    "data_habitacion_dummy.rename(columns={\"habitacion_Entire home/apt\":\"habitacion_entire_home/apt\",\n",
    "                                      \"habitacion_Hotel room\":\"habitacion_hotel_room\",\n",
    "                                      \"habitacion_Private room\":\"habitacion_private_room\",\n",
    "                                      \"habitacion_Shared room\":\"habitacion_shared_room\",})\n",
    "data_habitacion_dummy.head()"
   ]
  },
  {
   "cell_type": "markdown",
   "id": "1e697a0e",
   "metadata": {},
   "source": [
    "----\n",
    "# Hacemos la misma limpieza de datos y el mismo analisis exploratorio.\n",
    "-----\n",
    "# Lo que haremos ahora es usar una red neuronal, \n",
    "* ## Normalizaremos los datos obtenidos, dividir el modelo en entrenamiento y testeo, crear el modelo para asi ponerlo a entrenar y ver como se comporta para definir si es un modelo apto para predecir.\n",
    "\n",
    "* ## En este usaremos las variables que tienen correlación positiva y sus tipos de habitaciones."
   ]
  },
  {
   "cell_type": "code",
   "execution_count": 13,
   "id": "995487e4",
   "metadata": {},
   "outputs": [],
   "source": [
    "import tensorflow as tf\n",
    "from tensorflow import keras\n",
    "from sklearn.model_selection import train_test_split\n",
    "from sklearn.metrics import r2_score , mean_absolute_error , mean_squared_error"
   ]
  },
  {
   "cell_type": "code",
   "execution_count": 22,
   "id": "0d6e611c",
   "metadata": {},
   "outputs": [],
   "source": [
    "X = data_habitacion_dummy[[\"latitud\",\"noches_minimas\",\"disponibilidad_2020\",\"habitacion_Entire home/apt\",\"habitacion_Hotel room\",\n",
    "                           \"habitacion_Private room\",\"habitacion_Shared room\"]]\n",
    "Y = data_habitacion_dummy[\"precio\"]"
   ]
  },
  {
   "cell_type": "code",
   "execution_count": 23,
   "id": "9e8adec0",
   "metadata": {},
   "outputs": [],
   "source": [
    "# Normalizamo los datos.\n",
    "X_norm = (X- X.mean() / X.std())"
   ]
  },
  {
   "cell_type": "code",
   "execution_count": 24,
   "id": "4fd6cc8d",
   "metadata": {},
   "outputs": [],
   "source": [
    "#Separamos en modelos de entrenamiento y test\n",
    "X_train , X_test , Y_train , Y_test = train_test_split(X_norm , Y , test_size=0.3 , random_state=42)"
   ]
  },
  {
   "cell_type": "code",
   "execution_count": 25,
   "id": "a21ad5ae",
   "metadata": {},
   "outputs": [],
   "source": [
    "#Creamos el modelo, con sus respectivas densidad\n",
    "modelo = keras.Sequential([\n",
    "    keras.layers.Dense(64, activation='relu', input_shape=[7]),\n",
    "    keras.layers.Dense(64, activation='relu'),\n",
    "    keras.layers.Dense(64, activation='relu'),\n",
    "    keras.layers.Dense(64, activation='relu'),\n",
    "    keras.layers.Dense(32, activation='relu'),\n",
    "    keras.layers.Dense(1)\n",
    "])"
   ]
  },
  {
   "cell_type": "code",
   "execution_count": 26,
   "id": "749552df",
   "metadata": {
    "scrolled": true
   },
   "outputs": [
    {
     "name": "stderr",
     "output_type": "stream",
     "text": [
      "C:\\Users\\Acer\\anaconda3\\envs\\Trabajar-con-tensorflow\\lib\\site-packages\\keras\\engine\\data_adapter.py:1696: FutureWarning: The behavior of `series[i:j]` with an integer-dtype index is deprecated. In a future version, this will be treated as *label-based* indexing, consistent with e.g. `series[i]` lookups. To retain the old behavior, use `series.iloc[i:j]`. To get the future behavior, use `series.loc[i:j]`.\n",
      "  return t[start:end]\n"
     ]
    }
   ],
   "source": [
    "#Entrenamos el modelo\n",
    "modelo.compile(optimizer=keras.optimizers.RMSprop(learning_rate=0.001) , loss='mse' , metrics=['mae'])\n",
    "history = modelo.fit(X_train , Y_train , epochs=300 , validation_split=0.2 ,verbose=0)"
   ]
  },
  {
   "cell_type": "code",
   "execution_count": 27,
   "id": "b8787828",
   "metadata": {},
   "outputs": [
    {
     "name": "stdout",
     "output_type": "stream",
     "text": [
      "166/166 [==============================] - 0s 2ms/step\n"
     ]
    }
   ],
   "source": [
    "y_pred = modelo.predict(X_test).flatten()"
   ]
  },
  {
   "cell_type": "code",
   "execution_count": 28,
   "id": "38c5a042",
   "metadata": {},
   "outputs": [
    {
     "name": "stdout",
     "output_type": "stream",
     "text": [
      "Coeficiente de determinación (R2) es de: 0.1126737246180074\n",
      "Error cuadrático medio (MSE) es de : 26271.944685278562\n",
      "Eror absoluto medio (MAE) es de: 64.11147946129459\n"
     ]
    }
   ],
   "source": [
    "print('Coeficiente de determinación (R2) es de:', r2_score(Y_test, y_pred))\n",
    "print('Error cuadrático medio (MSE) es de :',mean_squared_error(Y_test , y_pred))\n",
    "print('Eror absoluto medio (MAE) es de:', mean_absolute_error(Y_test, y_pred))"
   ]
  },
  {
   "cell_type": "markdown",
   "id": "29aedede",
   "metadata": {},
   "source": [
    "* ## Observación.\n",
    "* ### Vemos que el modelo con la red neuronal sigue teniendo los mismo problemas de eficacia, lo que haremos ahora es agregar algunos datos e intentar con otro tipo de red neuronal mas compleja. cambiando optimizador y agregandole mas o menos tipos de capas.\n",
    "\n",
    "* ### como ya lo explicamos lo que es el MAE y el MSE lo volveremos a explicar aqui:\n",
    "* #### El MAE es una medida que se utiliza para entender cuán equivocados son los valores que predice un modelo de regresión con respecto a los valores reales. Un MAE de 64.11 indica que en promedio, las predicciones del modelo difieren en alrededor de 64.11 unidades de la verdad de los datos\n",
    "\n",
    "* #### El MSE mide el promedio de los cuadrados de los errores entre las predicciones y los valores reales. En este caso, el valor del MSE de 26271.9446 indica que el modelo tiene un error cuadrático promedio de aproximadamente 26271.9446 en las predicciones.\n",
    "----\n",
    "---\n",
    "\n",
    "* ## Vamos a intentar como se comporta la red neuronal con todos los datos y no solamente con los que tienen correlación y sus dichos tipos de habitaciones.\n",
    "* ## Luego agregaremos el dataset de las habitaciones dummificadas para ver como se comporta también y vemos alguna mejora del modelo."
   ]
  },
  {
   "cell_type": "code",
   "execution_count": 85,
   "id": "83d58ce9",
   "metadata": {},
   "outputs": [],
   "source": [
    "X = data_habitacion_dummy[[\"latitud\",\"noches_minimas\",\"dias_ocupados_2019\",\"noches_minimas\",\"numeros_reseñas\",\"reseñas_por_mes\",\n",
    "                           \"disponibilidad_2020\",\"habitacion_Entire home/apt\",\"habitacion_Hotel room\",\n",
    "                           \"habitacion_Private room\",\"habitacion_Shared room\"]]\n",
    "Y = data_habitacion_dummy[\"precio\"]"
   ]
  },
  {
   "cell_type": "code",
   "execution_count": 30,
   "id": "0c61569e",
   "metadata": {},
   "outputs": [],
   "source": [
    "X_norm = (X- X.mean() / X.std())"
   ]
  },
  {
   "cell_type": "code",
   "execution_count": 31,
   "id": "ac30f3b6",
   "metadata": {},
   "outputs": [],
   "source": [
    "X_train , X_test , Y_train , Y_test = train_test_split(X_norm , Y , test_size=0.3 , random_state=42)"
   ]
  },
  {
   "cell_type": "code",
   "execution_count": 32,
   "id": "8a58dcca",
   "metadata": {},
   "outputs": [],
   "source": [
    "modelo1 = keras.Sequential([\n",
    "    keras.layers.Dense(65, activation='relu', input_shape=[11]),\n",
    "    keras.layers.Dense(65, activation='relu'),\n",
    "    keras.layers.Dense(65, activation='relu'),\n",
    "    keras.layers.Dense(65, activation='relu'),\n",
    "    keras.layers.Dense(65, activation='relu'),\n",
    "    keras.layers.Dense(65, activation='relu'),\n",
    "    keras.layers.Dense(65, activation='relu'),\n",
    "    keras.layers.Dense(65, activation='relu'),\n",
    "    keras.layers.Dense(65, activation='relu'),\n",
    "    keras.layers.Dense(1)\n",
    "])"
   ]
  },
  {
   "cell_type": "code",
   "execution_count": 33,
   "id": "db8b8ead",
   "metadata": {},
   "outputs": [
    {
     "name": "stderr",
     "output_type": "stream",
     "text": [
      "C:\\Users\\Acer\\anaconda3\\envs\\Trabajar-con-tensorflow\\lib\\site-packages\\keras\\engine\\data_adapter.py:1696: FutureWarning: The behavior of `series[i:j]` with an integer-dtype index is deprecated. In a future version, this will be treated as *label-based* indexing, consistent with e.g. `series[i]` lookups. To retain the old behavior, use `series.iloc[i:j]`. To get the future behavior, use `series.loc[i:j]`.\n",
      "  return t[start:end]\n"
     ]
    }
   ],
   "source": [
    "#Entrenamos el modelo\n",
    "modelo1.compile(optimizer=keras.optimizers.RMSprop(learning_rate=0.001), loss='mse' , metrics=['mae'])\n",
    "history1 = modelo1.fit(X_train , Y_train , epochs=500 , validation_split=0.2 ,verbose=0)"
   ]
  },
  {
   "cell_type": "code",
   "execution_count": 34,
   "id": "c79be61d",
   "metadata": {},
   "outputs": [
    {
     "name": "stdout",
     "output_type": "stream",
     "text": [
      "166/166 [==============================] - 1s 4ms/step\n"
     ]
    }
   ],
   "source": [
    "y_pred1 = modelo1.predict(X_test).flatten()"
   ]
  },
  {
   "cell_type": "code",
   "execution_count": 35,
   "id": "d841d5aa",
   "metadata": {},
   "outputs": [
    {
     "name": "stdout",
     "output_type": "stream",
     "text": [
      "Coeficiente de determinación (R2) es de: 0.14310979925120204\n",
      "Error cuadrático medio (MSE) es de : 25370.793788043986\n",
      "Eror absoluto medio (MAE) es de: 61.540439137266624\n"
     ]
    }
   ],
   "source": [
    "print('Coeficiente de determinación (R2) es de:', r2_score(Y_test, y_pred1))\n",
    "print('Error cuadrático medio (MSE) es de :',mean_squared_error(Y_test , y_pred1))\n",
    "print('Eror absoluto medio (MAE) es de:', mean_absolute_error(Y_test, y_pred1))"
   ]
  },
  {
   "cell_type": "markdown",
   "id": "f81f6fda",
   "metadata": {},
   "source": [
    "* ## Obtuvimos casi el mismo resultado usando todas las variables predictoras, solamente mejor apenas el modelo. \n",
    "    * ### MAE =  61.54 --- MSE = 25370.7937 \n",
    "\n",
    "------\n",
    "* ### Ahora Entrenamiento del modelo con las variables dumificadas sobre los tipos de habitaciones.utilizando el optimizador 'ADAM'"
   ]
  },
  {
   "cell_type": "code",
   "execution_count": 72,
   "id": "ebf05dc0",
   "metadata": {},
   "outputs": [],
   "source": [
    "#Agregamos las variables dummies y luego haremos un entrenamiento con el optimizado \"adam\" y luego con el \"rmsprop\"\n",
    "X = data_habitacion_dummy[[\"latitud\",\"noches_minimas\",\"dias_ocupados_2019\",\"noches_minimas\",\"numeros_reseñas\",\n",
    "                           \"reseñas_por_mes\",\"disponibilidad_2020\",\"habitacion_Entire home/apt\",\"habitacion_Hotel room\",\n",
    "                           \"habitacion_Private room\",\"habitacion_Shared room\"]]\n",
    "Y = data_habitacion_dummy[\"precio\"]"
   ]
  },
  {
   "cell_type": "code",
   "execution_count": 37,
   "id": "a979d192",
   "metadata": {},
   "outputs": [],
   "source": [
    "X_norm = (X- X.mean() / X.std())"
   ]
  },
  {
   "cell_type": "code",
   "execution_count": 38,
   "id": "8dd1b7ec",
   "metadata": {},
   "outputs": [],
   "source": [
    "X_train , X_test , Y_train , Y_test = train_test_split(X_norm , Y , test_size=0.3 , random_state=42)"
   ]
  },
  {
   "cell_type": "code",
   "execution_count": 39,
   "id": "5f9c1af3",
   "metadata": {},
   "outputs": [],
   "source": [
    "modelo11 = keras.Sequential([\n",
    "    keras.layers.Dense(65, activation='relu', input_shape=[11]),\n",
    "    keras.layers.Dense(65, activation='relu'),\n",
    "    keras.layers.Dense(65, activation='relu'),\n",
    "    keras.layers.Dense(65, activation='relu'),\n",
    "    keras.layers.Dense(65, activation='relu'),\n",
    "    keras.layers.Dense(42, activation='relu'),\n",
    "    keras.layers.Dense(32, activation='relu'),\n",
    "    keras.layers.Dense(1)\n",
    "])"
   ]
  },
  {
   "cell_type": "code",
   "execution_count": 40,
   "id": "446bbb7a",
   "metadata": {},
   "outputs": [
    {
     "name": "stderr",
     "output_type": "stream",
     "text": [
      "C:\\Users\\Acer\\anaconda3\\envs\\Trabajar-con-tensorflow\\lib\\site-packages\\keras\\engine\\data_adapter.py:1696: FutureWarning: The behavior of `series[i:j]` with an integer-dtype index is deprecated. In a future version, this will be treated as *label-based* indexing, consistent with e.g. `series[i]` lookups. To retain the old behavior, use `series.iloc[i:j]`. To get the future behavior, use `series.loc[i:j]`.\n",
      "  return t[start:end]\n"
     ]
    }
   ],
   "source": [
    "modelo11.compile(optimizer=keras.optimizers.Adam(learning_rate=0.001), loss='mse' , metrics=['mae'])\n",
    "history11 = modelo11.fit(X_train , Y_train , epochs=700 , validation_split=0.2 ,verbose=0)"
   ]
  },
  {
   "cell_type": "code",
   "execution_count": 41,
   "id": "36efab1f",
   "metadata": {},
   "outputs": [
    {
     "name": "stdout",
     "output_type": "stream",
     "text": [
      "166/166 [==============================] - 1s 3ms/step\n"
     ]
    }
   ],
   "source": [
    "y_pred11 = modelo11.predict(X_test).flatten()"
   ]
  },
  {
   "cell_type": "code",
   "execution_count": 42,
   "id": "376993db",
   "metadata": {},
   "outputs": [
    {
     "name": "stdout",
     "output_type": "stream",
     "text": [
      "Coeficiente de determinación (R2) es de: 0.10375207743143677\n",
      "Error cuadrático medio (MSE) es de : 26536.096697779547\n",
      "Eror absoluto medio (MAE) es de: 64.64316472907954\n"
     ]
    }
   ],
   "source": [
    "print('Coeficiente de determinación (R2) es de:', r2_score(Y_test, y_pred11))\n",
    "print('Error cuadrático medio (MSE) es de :',mean_squared_error(Y_test , y_pred11))\n",
    "print('Eror absoluto medio (MAE) es de:', mean_absolute_error(Y_test, y_pred11))"
   ]
  },
  {
   "cell_type": "markdown",
   "id": "f8fa54f9",
   "metadata": {},
   "source": [
    "* ### El modelo sigue igual (en este caso hicimos que tenga 700 epocas) Bastante para entrenar.\n",
    "---\n",
    "* ### Haremos una con el 'ADAM' de las 11 variables que tenemos para predecir"
   ]
  },
  {
   "cell_type": "code",
   "execution_count": 99,
   "id": "f72d779b",
   "metadata": {},
   "outputs": [],
   "source": [
    "#Agregamos las variables dummies y luego haremos un entrenamiento con el optimizado \"adam\" y luego con el \"rmsprop\"\n",
    "X = data_habitacion_dummy[[\"latitud\",\"noches_minimas\",\"dias_ocupados_2019\",\"noches_minimas\",\"numeros_reseñas\",\n",
    "                           \"reseñas_por_mes\",\"disponibilidad_2020\",\"habitacion_Entire home/apt\",\"habitacion_Hotel room\",\n",
    "                           \"habitacion_Private room\",\"habitacion_Shared room\"]]\n",
    "Y = data_habitacion_dummy[\"precio\"]"
   ]
  },
  {
   "cell_type": "code",
   "execution_count": 58,
   "id": "cf8f7cbf",
   "metadata": {},
   "outputs": [],
   "source": [
    "X_norm = (X- X.mean() / X.std())"
   ]
  },
  {
   "cell_type": "code",
   "execution_count": 59,
   "id": "e2296f4c",
   "metadata": {},
   "outputs": [],
   "source": [
    "X_train , X_test , Y_train , Y_test = train_test_split(X_norm , Y , test_size=0.25 , random_state=42)"
   ]
  },
  {
   "cell_type": "code",
   "execution_count": 60,
   "id": "306afec4",
   "metadata": {},
   "outputs": [],
   "source": [
    "modelo11r = keras.Sequential([\n",
    "    keras.layers.Dense(95, activation='relu', input_shape=[11]),\n",
    "    keras.layers.Dense(95, activation='relu'),\n",
    "    keras.layers.Dense(95, activation='relu'),\n",
    "    keras.layers.Dense(55, activation='relu'),\n",
    "    keras.layers.Dense(40, activation='relu'),\n",
    "    keras.layers.Dense(32, activation='relu'),\n",
    "    keras.layers.Dense(32, activation='relu'),\n",
    "    keras.layers.Dense(1)\n",
    "])"
   ]
  },
  {
   "cell_type": "code",
   "execution_count": 61,
   "id": "5997e0fd",
   "metadata": {},
   "outputs": [
    {
     "name": "stderr",
     "output_type": "stream",
     "text": [
      "C:\\Users\\Acer\\anaconda3\\envs\\Trabajar-con-tensorflow\\lib\\site-packages\\keras\\engine\\data_adapter.py:1696: FutureWarning: The behavior of `series[i:j]` with an integer-dtype index is deprecated. In a future version, this will be treated as *label-based* indexing, consistent with e.g. `series[i]` lookups. To retain the old behavior, use `series.iloc[i:j]`. To get the future behavior, use `series.loc[i:j]`.\n",
      "  return t[start:end]\n"
     ]
    }
   ],
   "source": [
    "#Ahora haremos una con el optimizador rmsprop\n",
    "modelo11r.compile(optimizer=keras.optimizers.Adam(learning_rate=0.001) , loss='mse' , metrics=['mae'])\n",
    "history11r = modelo11r.fit(X_train , Y_train , epochs=1000 , validation_split=0.3 ,verbose=0)"
   ]
  },
  {
   "cell_type": "code",
   "execution_count": 62,
   "id": "60f4c6f2",
   "metadata": {},
   "outputs": [
    {
     "name": "stdout",
     "output_type": "stream",
     "text": [
      "138/138 [==============================] - 0s 2ms/step\n"
     ]
    }
   ],
   "source": [
    "y_pred11r = modelo11r.predict(X_test).flatten()"
   ]
  },
  {
   "cell_type": "code",
   "execution_count": 63,
   "id": "b0f6daa3",
   "metadata": {},
   "outputs": [
    {
     "name": "stdout",
     "output_type": "stream",
     "text": [
      "Coeficiente de determinación (R2) es de: 0.08411978676964971\n",
      "Error cuadrático medio (MSE) es de : 27259.60540826444\n",
      "Eror absoluto medio (MAE) es de: 66.05033753591705\n"
     ]
    }
   ],
   "source": [
    "print('Coeficiente de determinación (R2) es de:', r2_score(Y_test, y_pred11r))\n",
    "print('Error cuadrático medio (MSE) es de :',mean_squared_error(Y_test , y_pred11r))\n",
    "print('Eror absoluto medio (MAE) es de:', mean_absolute_error(Y_test, y_pred11r))"
   ]
  },
  {
   "cell_type": "markdown",
   "id": "b82a6314",
   "metadata": {},
   "source": [
    "* # Resumen de las redes neuronales creadas para la prediccion de alquileres en NY.\n",
    "* ## Vemos que el mae mas bajo que obtuvimos es de 61.54 (el mas alto fue alrededor de 88.50) \n",
    "* ## Utilizamos el optimizador \"adam\" y el \"rmsprop\". el que mejor fue la prediccion de todas es con el \"adam\" y todas las variables predictoras posibles.\n",
    "\n",
    "---\n",
    "* ### Lo que voy a hacer es lo siguiente: Intentar de agregar o quitar algunos parametros de la capda o otro tipos de neuronas.\n",
    "* ### luego también tengo que entrenar mas a fondo el modelo, con el testing y train pára luego hacer una validación cruzada para cada modelo y darle un resultado final a cada uno.\n",
    "------\n",
    "-----\n",
    "* # Vamos a crear un red neuronal 'RECURRENTE'."
   ]
  },
  {
   "cell_type": "code",
   "execution_count": 435,
   "id": "bbad6271",
   "metadata": {},
   "outputs": [],
   "source": [
    "from sklearn.preprocessing import StandardScaler\n",
    "from tensorflow.keras.models import Sequential\n",
    "from tensorflow.keras.layers import LSTM, Dense"
   ]
  },
  {
   "cell_type": "code",
   "execution_count": 436,
   "id": "cd840d61",
   "metadata": {},
   "outputs": [],
   "source": [
    "#Seleccionamos las variables predictoras.\n",
    "X = data_habitacion_dummy[[\"latitud\",\"longitud\",\"noches_minimas\",\"dias_ocupados_2019\",\"noches_minimas\",\"numeros_reseñas\",\n",
    "                           \"reseñas_por_mes\",\"disponibilidad_2020\",\"habitacion_Entire home/apt\",\"habitacion_Hotel room\",\n",
    "                           \"habitacion_Private room\",\"habitacion_Shared room\"]]\n",
    "Y = data_habitacion_dummy[\"precio\"].values"
   ]
  },
  {
   "cell_type": "code",
   "execution_count": 458,
   "id": "411cb900",
   "metadata": {},
   "outputs": [],
   "source": [
    "#### ##### #### Dividimos los datos en conjutos de prueba y test\n",
    "\n",
    "X_train , X_test , y_train , y_test = train_test_split(X,Y , test_size=0.30 , random_state=42)"
   ]
  },
  {
   "cell_type": "code",
   "execution_count": 459,
   "id": "710a3178",
   "metadata": {},
   "outputs": [],
   "source": [
    "### #### ### Hacemosun reescalado de los datos que elegimos.\n",
    "\n",
    "scaler = StandardScaler()\n",
    "X_train = scaler.fit_transform(X_train)\n",
    "X_test = scaler.fit_transform(X_test)"
   ]
  },
  {
   "cell_type": "code",
   "execution_count": 439,
   "id": "e7725a52",
   "metadata": {},
   "outputs": [],
   "source": [
    "#### #### #### Formateamos losd atos en un tensor \n",
    "\n",
    "X_train = np.reshape(X_train, (X_train.shape[0],1, X_train.shape[1]))\n",
    "X_test = np.reshape(X_test, (X_test.shape[0],1 , X_test.shape[1]))"
   ]
  },
  {
   "cell_type": "code",
   "execution_count": 440,
   "id": "362ff7aa",
   "metadata": {},
   "outputs": [],
   "source": [
    "#### #### ### Creamos la red neuronal.\n",
    "\n",
    "modeloR = Sequential()\n",
    "modeloR.add(LSTM(units=50 , activation='relu', input_shape=(1 , X_train.shape[2])))\n",
    "modeloR.add(Dense(units=1)) #La salida precio"
   ]
  },
  {
   "cell_type": "code",
   "execution_count": 441,
   "id": "3521f8be",
   "metadata": {},
   "outputs": [],
   "source": [
    "modeloR.compile(optimizer=keras.optimizers.Adam(learning_rate=0.001), loss='mean_squared_error') #Optimizador\n",
    "#modeloR.compile(optimizer=keras.optimizers.RMSprop(learning_rate=0.001), loss='mean_squared_error') #Optimizador"
   ]
  },
  {
   "cell_type": "code",
   "execution_count": 442,
   "id": "b515ac4e",
   "metadata": {},
   "outputs": [
    {
     "name": "stdout",
     "output_type": "stream",
     "text": [
      "166/166 [==============================] - 1s 2ms/step - loss: 50558.8320\n"
     ]
    }
   ],
   "source": [
    "### #### Entrenar el modelo.\n",
    "\n",
    "test_loss = modeloR.evaluate(X_test, y_test)"
   ]
  },
  {
   "cell_type": "code",
   "execution_count": 443,
   "id": "4152ae65",
   "metadata": {},
   "outputs": [
    {
     "name": "stdout",
     "output_type": "stream",
     "text": [
      "166/166 [==============================] - 1s 2ms/step\n"
     ]
    }
   ],
   "source": [
    "y_pred = modeloR.predict(X_test)"
   ]
  },
  {
   "cell_type": "code",
   "execution_count": 444,
   "id": "8d2e02bd",
   "metadata": {},
   "outputs": [
    {
     "name": "stdout",
     "output_type": "stream",
     "text": [
      "MAE = 144.73353586398133\n",
      "MSE = 50558.8365094827\n",
      "R2 = -0.7076080444377928\n"
     ]
    }
   ],
   "source": [
    "mae = mean_absolute_error(y_test , y_pred)\n",
    "mse = mean_squared_error(y_test , y_pred)\n",
    "R2 = r2_score(y_test , y_pred)\n",
    "\n",
    "print(\"MAE =\",mae)\n",
    "print(\"MSE =\",mse)\n",
    "print(\"R2 =\",R2)"
   ]
  },
  {
   "cell_type": "markdown",
   "id": "d2985977",
   "metadata": {},
   "source": [
    "* ### Como podemos ver tenemos valores muy malos en la predicción. tendremos que ajustar algunos parametros e ir utilizando tecnicas de regularización."
   ]
  },
  {
   "cell_type": "code",
   "execution_count": 398,
   "id": "17aedce6",
   "metadata": {},
   "outputs": [],
   "source": [
    "from tensorflow.keras.layers import Dropout"
   ]
  },
  {
   "cell_type": "code",
   "execution_count": 399,
   "id": "3939b7f6",
   "metadata": {},
   "outputs": [],
   "source": [
    "modeloR1 = Sequential()\n",
    "modeloR1.add(LSTM(units=64 , activation='relu', return_sequences=True , input_shape=(1, X_train.shape[2])))\n",
    "modeloR1.add(Dropout(0.2))\n",
    "modeloR1.add(LSTM(units=64 ,activation='relu'))\n",
    "modeloR1.add(Dropout(0.2))\n",
    "modeloR1.add(Dense(units=1))"
   ]
  },
  {
   "cell_type": "code",
   "execution_count": 400,
   "id": "5106a6ad",
   "metadata": {
    "scrolled": true
   },
   "outputs": [
    {
     "name": "stdout",
     "output_type": "stream",
     "text": [
      "Epoch 1/10\n",
      "386/386 [==============================] - 6s 6ms/step - loss: 47853.5664\n",
      "Epoch 2/10\n",
      "386/386 [==============================] - 2s 5ms/step - loss: 38106.8359\n",
      "Epoch 3/10\n",
      "386/386 [==============================] - 2s 6ms/step - loss: 37540.2930\n",
      "Epoch 4/10\n",
      "386/386 [==============================] - 3s 7ms/step - loss: 37462.3281\n",
      "Epoch 5/10\n",
      "386/386 [==============================] - 2s 6ms/step - loss: 37378.1289\n",
      "Epoch 6/10\n",
      "386/386 [==============================] - 2s 6ms/step - loss: 37035.4414\n",
      "Epoch 7/10\n",
      "386/386 [==============================] - 2s 6ms/step - loss: 36747.8242\n",
      "Epoch 8/10\n",
      "386/386 [==============================] - 2s 5ms/step - loss: 36771.9180\n",
      "Epoch 9/10\n",
      "386/386 [==============================] - 2s 6ms/step - loss: 36798.5117\n",
      "Epoch 10/10\n",
      "386/386 [==============================] - 2s 6ms/step - loss: 36392.0508\n"
     ]
    },
    {
     "data": {
      "text/plain": [
       "<keras.callbacks.History at 0x24cdd5bad60>"
      ]
     },
     "execution_count": 400,
     "metadata": {},
     "output_type": "execute_result"
    }
   ],
   "source": [
    "modeloR1.compile(optimizer=keras.optimizers.Adam(learning_rate=0.001) , loss='mean_squared_error')\n",
    "modeloR1.fit(X_train , y_train , epochs=10, batch_size=32 , verbose=1)"
   ]
  },
  {
   "cell_type": "code",
   "execution_count": 401,
   "id": "a13515b9",
   "metadata": {},
   "outputs": [
    {
     "name": "stdout",
     "output_type": "stream",
     "text": [
      "166/166 [==============================] - 2s 4ms/step - loss: 24093.2598\n"
     ]
    }
   ],
   "source": [
    "test_loss = modeloR1.evaluate(X_test , y_test)"
   ]
  },
  {
   "cell_type": "code",
   "execution_count": 402,
   "id": "d6dad0a5",
   "metadata": {},
   "outputs": [
    {
     "name": "stdout",
     "output_type": "stream",
     "text": [
      "166/166 [==============================] - 1s 4ms/step\n"
     ]
    }
   ],
   "source": [
    "y_pred = modeloR1.predict(X_test)"
   ]
  },
  {
   "cell_type": "code",
   "execution_count": 403,
   "id": "9af00465",
   "metadata": {},
   "outputs": [
    {
     "name": "stdout",
     "output_type": "stream",
     "text": [
      "MAE = 58.18154805489272\n",
      "MSE = 24093.255720062523\n",
      "R2 = 0.1862582265602738\n"
     ]
    }
   ],
   "source": [
    "mae = mean_absolute_error(y_test , y_pred)\n",
    "mse = mean_squared_error(y_test , y_pred)\n",
    "R2 = r2_score(y_test , y_pred)\n",
    "\n",
    "print(\"MAE =\",mae)\n",
    "print(\"MSE =\",mse)\n",
    "print(\"R2 =\",R2)"
   ]
  },
  {
   "cell_type": "markdown",
   "id": "13db62e9",
   "metadata": {},
   "source": [
    "* ### Podemos observar que el modelo mejoro un poco a comparación de la red neuronal anterior, y se acerca al resultado mejor que teniamos con el SVR que es una **MAE = 52.58** - ahora obtuvimos un **MAE=58.19** lo que intentaremos de hacer es ajutar un poco mas los parametros de la red neuronal recurrente, hacerlo entrenar un poco mas y ver al final que resultado obtenemos.  si sigue siendo el mismo intentaremos ver como bajar el MAE en el SVR ya que es el mejor predictor que tenemos hasta ahora.\n",
    "-----\n",
    "\n",
    "* ### Usaremos el optimizador RMS y subir las epocas para ver como se comporta y si hay alguna mejora."
   ]
  },
  {
   "cell_type": "code",
   "execution_count": 404,
   "id": "3f9184f4",
   "metadata": {
    "scrolled": true
   },
   "outputs": [
    {
     "name": "stdout",
     "output_type": "stream",
     "text": [
      "Epoch 1/50\n",
      "386/386 [==============================] - 7s 5ms/step - loss: 36560.2891\n",
      "Epoch 2/50\n",
      "386/386 [==============================] - 2s 6ms/step - loss: 36366.1172\n",
      "Epoch 3/50\n",
      "386/386 [==============================] - 2s 5ms/step - loss: 36509.7227\n",
      "Epoch 4/50\n",
      "386/386 [==============================] - 2s 5ms/step - loss: 36245.6289\n",
      "Epoch 5/50\n",
      "386/386 [==============================] - 2s 5ms/step - loss: 36417.0156\n",
      "Epoch 6/50\n",
      "386/386 [==============================] - 3s 7ms/step - loss: 36241.0234\n",
      "Epoch 7/50\n",
      "386/386 [==============================] - 3s 7ms/step - loss: 36237.7695\n",
      "Epoch 8/50\n",
      "386/386 [==============================] - 2s 5ms/step - loss: 36365.4180\n",
      "Epoch 9/50\n",
      "386/386 [==============================] - 2s 5ms/step - loss: 36068.3828\n",
      "Epoch 10/50\n",
      "386/386 [==============================] - 2s 5ms/step - loss: 36071.7852\n",
      "Epoch 11/50\n",
      "386/386 [==============================] - 2s 6ms/step - loss: 36017.9883\n",
      "Epoch 12/50\n",
      "386/386 [==============================] - 2s 5ms/step - loss: 36099.9180\n",
      "Epoch 13/50\n",
      "386/386 [==============================] - 2s 5ms/step - loss: 36049.6484\n",
      "Epoch 14/50\n",
      "386/386 [==============================] - 2s 6ms/step - loss: 36367.0156\n",
      "Epoch 15/50\n",
      "386/386 [==============================] - 2s 5ms/step - loss: 36199.9883\n",
      "Epoch 16/50\n",
      "386/386 [==============================] - 2s 5ms/step - loss: 36163.3047\n",
      "Epoch 17/50\n",
      "386/386 [==============================] - 2s 5ms/step - loss: 36030.0000\n",
      "Epoch 18/50\n",
      "386/386 [==============================] - 3s 6ms/step - loss: 36008.8125\n",
      "Epoch 19/50\n",
      "386/386 [==============================] - 2s 5ms/step - loss: 36142.9414\n",
      "Epoch 20/50\n",
      "386/386 [==============================] - 2s 5ms/step - loss: 36089.7305\n",
      "Epoch 21/50\n",
      "386/386 [==============================] - 2s 5ms/step - loss: 36144.5469\n",
      "Epoch 22/50\n",
      "386/386 [==============================] - 2s 6ms/step - loss: 36068.7969\n",
      "Epoch 23/50\n",
      "386/386 [==============================] - 2s 5ms/step - loss: 36058.5586\n",
      "Epoch 24/50\n",
      "386/386 [==============================] - 2s 5ms/step - loss: 36252.0898\n",
      "Epoch 25/50\n",
      "386/386 [==============================] - 2s 5ms/step - loss: 36152.8047\n",
      "Epoch 26/50\n",
      "386/386 [==============================] - 2s 6ms/step - loss: 36038.1172\n",
      "Epoch 27/50\n",
      "386/386 [==============================] - 2s 5ms/step - loss: 36059.3164\n",
      "Epoch 28/50\n",
      "386/386 [==============================] - 2s 6ms/step - loss: 36209.0000\n",
      "Epoch 29/50\n",
      "386/386 [==============================] - 3s 7ms/step - loss: 36258.5273\n",
      "Epoch 30/50\n",
      "386/386 [==============================] - 3s 8ms/step - loss: 36105.6250\n",
      "Epoch 31/50\n",
      "386/386 [==============================] - 4s 10ms/step - loss: 36069.1172\n",
      "Epoch 32/50\n",
      "386/386 [==============================] - 4s 11ms/step - loss: 35975.1875\n",
      "Epoch 33/50\n",
      "386/386 [==============================] - 3s 9ms/step - loss: 36142.3359\n",
      "Epoch 34/50\n",
      "386/386 [==============================] - 4s 9ms/step - loss: 36203.3281\n",
      "Epoch 35/50\n",
      "386/386 [==============================] - 3s 7ms/step - loss: 36158.6445\n",
      "Epoch 36/50\n",
      "386/386 [==============================] - 2s 6ms/step - loss: 36124.7930\n",
      "Epoch 37/50\n",
      "386/386 [==============================] - 2s 6ms/step - loss: 36191.2969\n",
      "Epoch 38/50\n",
      "386/386 [==============================] - 2s 5ms/step - loss: 35974.8086\n",
      "Epoch 39/50\n",
      "386/386 [==============================] - 2s 5ms/step - loss: 36263.8555\n",
      "Epoch 40/50\n",
      "386/386 [==============================] - 2s 5ms/step - loss: 36289.0000\n",
      "Epoch 41/50\n",
      "386/386 [==============================] - 2s 5ms/step - loss: 36045.7656\n",
      "Epoch 42/50\n",
      "386/386 [==============================] - 2s 5ms/step - loss: 36226.0664\n",
      "Epoch 43/50\n",
      "386/386 [==============================] - 2s 5ms/step - loss: 36157.0703\n",
      "Epoch 44/50\n",
      "386/386 [==============================] - 2s 5ms/step - loss: 35993.1953\n",
      "Epoch 45/50\n",
      "386/386 [==============================] - 2s 4ms/step - loss: 36105.1328\n",
      "Epoch 46/50\n",
      "386/386 [==============================] - 2s 5ms/step - loss: 36248.0781\n",
      "Epoch 47/50\n",
      "386/386 [==============================] - 2s 4ms/step - loss: 35994.4883\n",
      "Epoch 48/50\n",
      "386/386 [==============================] - 2s 4ms/step - loss: 36012.6602\n",
      "Epoch 49/50\n",
      "386/386 [==============================] - 2s 5ms/step - loss: 36083.7734\n",
      "Epoch 50/50\n",
      "386/386 [==============================] - 2s 5ms/step - loss: 36080.1562\n"
     ]
    },
    {
     "data": {
      "text/plain": [
       "<keras.callbacks.History at 0x24ce0c412e0>"
      ]
     },
     "execution_count": 404,
     "metadata": {},
     "output_type": "execute_result"
    }
   ],
   "source": [
    "modeloR1.compile(optimizer=keras.optimizers.RMSprop(learning_rate=0.001) , loss='mean_squared_error')\n",
    "modeloR1.fit(X_train , y_train , epochs=50, batch_size=32 , verbose=1)"
   ]
  },
  {
   "cell_type": "code",
   "execution_count": 405,
   "id": "592db662",
   "metadata": {},
   "outputs": [
    {
     "name": "stdout",
     "output_type": "stream",
     "text": [
      "166/166 [==============================] - 1s 2ms/step - loss: 23805.7012\n"
     ]
    }
   ],
   "source": [
    "test_loss = modeloR1.evaluate(X_test , y_test)"
   ]
  },
  {
   "cell_type": "code",
   "execution_count": 406,
   "id": "8ebedde8",
   "metadata": {},
   "outputs": [
    {
     "name": "stdout",
     "output_type": "stream",
     "text": [
      "166/166 [==============================] - 1s 2ms/step\n"
     ]
    }
   ],
   "source": [
    "y_pred = modeloR1.predict(X_test)"
   ]
  },
  {
   "cell_type": "code",
   "execution_count": 407,
   "id": "3f252466",
   "metadata": {},
   "outputs": [
    {
     "name": "stdout",
     "output_type": "stream",
     "text": [
      "MAE = 56.48700776907669\n",
      "MSE = 23805.70007255486\n",
      "R2 = 0.19597032380791346\n"
     ]
    }
   ],
   "source": [
    "mae = mean_absolute_error(y_test , y_pred)\n",
    "mse = mean_squared_error(y_test , y_pred)\n",
    "R2 = r2_score(y_test , y_pred)\n",
    "\n",
    "print(\"MAE =\",mae)\n",
    "print(\"MSE =\",mse)\n",
    "print(\"R2 =\",R2)"
   ]
  },
  {
   "cell_type": "code",
   "execution_count": 408,
   "id": "0a02e94f",
   "metadata": {
    "scrolled": true
   },
   "outputs": [
    {
     "name": "stdout",
     "output_type": "stream",
     "text": [
      "Epoch 1/10\n",
      "386/386 [==============================] - 5s 4ms/step - loss: 36396.6016\n",
      "Epoch 2/10\n",
      "386/386 [==============================] - 2s 4ms/step - loss: 36403.0859\n",
      "Epoch 3/10\n",
      "386/386 [==============================] - 2s 4ms/step - loss: 36529.3984\n",
      "Epoch 4/10\n",
      "386/386 [==============================] - 2s 4ms/step - loss: 36287.7305\n",
      "Epoch 5/10\n",
      "386/386 [==============================] - 2s 5ms/step - loss: 36365.0469\n",
      "Epoch 6/10\n",
      "386/386 [==============================] - 2s 5ms/step - loss: 36624.4727\n",
      "Epoch 7/10\n",
      "386/386 [==============================] - 2s 5ms/step - loss: 36251.9453\n",
      "Epoch 8/10\n",
      "386/386 [==============================] - 2s 5ms/step - loss: 36266.8906\n",
      "Epoch 9/10\n",
      "386/386 [==============================] - 2s 5ms/step - loss: 36172.8125\n",
      "Epoch 10/10\n",
      "386/386 [==============================] - 2s 5ms/step - loss: 36339.1484\n"
     ]
    },
    {
     "data": {
      "text/plain": [
       "<keras.callbacks.History at 0x24ce51f3c40>"
      ]
     },
     "execution_count": 408,
     "metadata": {},
     "output_type": "execute_result"
    }
   ],
   "source": [
    "modeloR1.compile(optimizer=keras.optimizers.RMSprop(learning_rate=0.01) , loss='mean_squared_error')\n",
    "modeloR1.fit(X_train , y_train , epochs=10, batch_size=32 , verbose=1)"
   ]
  },
  {
   "cell_type": "code",
   "execution_count": 409,
   "id": "6a91dc4e",
   "metadata": {},
   "outputs": [
    {
     "name": "stdout",
     "output_type": "stream",
     "text": [
      "166/166 [==============================] - 1s 3ms/step - loss: 23517.6211\n"
     ]
    }
   ],
   "source": [
    "test_loss = modeloR1.evaluate(X_test , y_test)"
   ]
  },
  {
   "cell_type": "code",
   "execution_count": 410,
   "id": "8d2113b3",
   "metadata": {},
   "outputs": [
    {
     "name": "stdout",
     "output_type": "stream",
     "text": [
      "166/166 [==============================] - 1s 2ms/step\n"
     ]
    }
   ],
   "source": [
    "y_pred = modeloR1.predict(X_test)"
   ]
  },
  {
   "cell_type": "code",
   "execution_count": 411,
   "id": "bd8b9770",
   "metadata": {},
   "outputs": [
    {
     "name": "stdout",
     "output_type": "stream",
     "text": [
      "MAE = 54.57233211982893\n",
      "MSE = 23517.624533620212\n",
      "R2 = 0.20569998021719993\n"
     ]
    }
   ],
   "source": [
    "mae = mean_absolute_error(y_test , y_pred)\n",
    "mse = mean_squared_error(y_test , y_pred)\n",
    "R2 = r2_score(y_test , y_pred)\n",
    "\n",
    "print(\"MAE =\",mae)\n",
    "print(\"MSE =\",mse)\n",
    "print(\"R2 =\",R2)"
   ]
  },
  {
   "cell_type": "markdown",
   "id": "bfe7f712",
   "metadata": {},
   "source": [
    "* Podemos observar que con RMSprop tiene una leve mejoria en el **MAE = 54.57**.\n",
    "* Tengamos en cuenta que también utilize otro optimizadores (adamax , adadelta , Nadam) pero no viene al caso publicar sus resultados ya que fueron variando entre 69 y 64 los resultados. No quiero hacer un Extenso trabajo con datos que no influyen u mejoran al modelo.\n",
    "------\n",
    "\n",
    "* ### Intentaremos con el SGD que es uno de los optimizadores mas usados en el deep learning. Lo que hace es actualizar los parametros en la direccion opuesta del gradiente de la función de perdida."
   ]
  },
  {
   "cell_type": "code",
   "execution_count": 465,
   "id": "41f15c60",
   "metadata": {},
   "outputs": [],
   "source": [
    "from keras.optimizers import SGD\n",
    "from tensorflow.keras.layers import Dense, LSTM, Dropout"
   ]
  },
  {
   "cell_type": "code",
   "execution_count": 472,
   "id": "58e9ca7c",
   "metadata": {},
   "outputs": [],
   "source": [
    "X_train , X_test , y_train , y_test = train_test_split(X,Y , test_size=0.2 , random_state=42)\n",
    "\n",
    "### #### ### Hacemosun reescalado de los datos que elegimos.\n",
    "\n",
    "scaler = StandardScaler()\n",
    "X_train = scaler.fit_transform(X_train)\n",
    "X_test = scaler.fit_transform(X_test)"
   ]
  },
  {
   "cell_type": "code",
   "execution_count": 473,
   "id": "a2147d68",
   "metadata": {},
   "outputs": [],
   "source": [
    "modelo_sgd = Sequential()\n",
    "modelo_sgd.add(LSTM(units=128 ,input_shape=(X_train.shape[1],1)))\n",
    "modelo_sgd.add(Dropout(0.2))\n",
    "modelo_sgd.add(Dense(units=1))"
   ]
  },
  {
   "cell_type": "code",
   "execution_count": 477,
   "id": "ae17b5d4",
   "metadata": {},
   "outputs": [],
   "source": [
    "modelo_sgd.compile(optimizer=keras.optimizers.SGD(learning_rate=0.0001), loss='mean_squared_error', metrics=['mae','mse', 'accuracy'])"
   ]
  },
  {
   "cell_type": "code",
   "execution_count": 478,
   "id": "c11c4397",
   "metadata": {},
   "outputs": [
    {
     "name": "stdout",
     "output_type": "stream",
     "text": [
      "Epoch 1/10\n",
      "353/353 [==============================] - 10s 19ms/step - loss: 25510.3086 - mae: 61.6949 - mse: 25510.3086 - accuracy: 0.0000e+00 - val_loss: 72424.8750 - val_mae: 63.3982 - val_mse: 72424.8750 - val_accuracy: 0.0000e+00\n",
      "Epoch 2/10\n",
      "353/353 [==============================] - 6s 18ms/step - loss: 25209.0762 - mae: 60.9844 - mse: 25209.0762 - accuracy: 0.0000e+00 - val_loss: 72291.4531 - val_mae: 62.3409 - val_mse: 72291.4531 - val_accuracy: 0.0000e+00\n",
      "Epoch 3/10\n",
      "353/353 [==============================] - 7s 19ms/step - loss: 25036.1172 - mae: 60.0746 - mse: 25036.1172 - accuracy: 0.0000e+00 - val_loss: 72049.2031 - val_mae: 61.9908 - val_mse: 72049.2031 - val_accuracy: 0.0000e+00\n",
      "Epoch 4/10\n",
      "353/353 [==============================] - 7s 18ms/step - loss: 24983.8242 - mae: 59.4216 - mse: 24983.8242 - accuracy: 0.0000e+00 - val_loss: 71880.8750 - val_mae: 61.0932 - val_mse: 71880.8750 - val_accuracy: 0.0000e+00\n",
      "Epoch 5/10\n",
      "353/353 [==============================] - 6s 18ms/step - loss: 24627.3379 - mae: 59.1064 - mse: 24627.3379 - accuracy: 0.0000e+00 - val_loss: 71921.2734 - val_mae: 66.2448 - val_mse: 71921.2734 - val_accuracy: 0.0000e+00\n",
      "Epoch 6/10\n",
      "353/353 [==============================] - 6s 18ms/step - loss: 24794.9492 - mae: 60.0910 - mse: 24794.9492 - accuracy: 0.0000e+00 - val_loss: 71928.2500 - val_mae: 61.2591 - val_mse: 71928.2500 - val_accuracy: 0.0000e+00\n",
      "Epoch 7/10\n",
      "353/353 [==============================] - 6s 18ms/step - loss: 24808.5703 - mae: 59.8722 - mse: 24808.5703 - accuracy: 0.0000e+00 - val_loss: 72224.3438 - val_mae: 64.6795 - val_mse: 72224.3438 - val_accuracy: 0.0000e+00\n",
      "Epoch 8/10\n",
      "353/353 [==============================] - 6s 18ms/step - loss: 25041.1895 - mae: 60.7228 - mse: 25041.1895 - accuracy: 0.0000e+00 - val_loss: 72166.3516 - val_mae: 62.3232 - val_mse: 72166.3516 - val_accuracy: 0.0000e+00\n",
      "Epoch 9/10\n",
      "353/353 [==============================] - 7s 19ms/step - loss: 24866.7793 - mae: 59.4803 - mse: 24866.7793 - accuracy: 0.0000e+00 - val_loss: 72049.8750 - val_mae: 61.4522 - val_mse: 72049.8750 - val_accuracy: 0.0000e+00\n",
      "Epoch 10/10\n",
      "353/353 [==============================] - 6s 17ms/step - loss: 24623.2109 - mae: 59.0904 - mse: 24623.2109 - accuracy: 0.0000e+00 - val_loss: 72033.7344 - val_mae: 67.2504 - val_mse: 72033.7344 - val_accuracy: 0.0000e+00\n"
     ]
    },
    {
     "data": {
      "text/plain": [
       "<keras.callbacks.History at 0x24cd8d87250>"
      ]
     },
     "execution_count": 478,
     "metadata": {},
     "output_type": "execute_result"
    }
   ],
   "source": [
    "modelo_sgd.fit(X_train , y_train , epochs=10 , batch_size=32 , validation_split=0.2)"
   ]
  },
  {
   "cell_type": "code",
   "execution_count": 479,
   "id": "7cd3b231",
   "metadata": {},
   "outputs": [
    {
     "name": "stdout",
     "output_type": "stream",
     "text": [
      "111/111 [==============================] - 1s 7ms/step - loss: 26899.4863 - mae: 62.4359 - mse: 26899.4863 - accuracy: 0.0000e+00\n",
      "MAE: 62.435874938964844\n",
      "MSE: 26899.486328125\n",
      "R2: 0.0\n"
     ]
    }
   ],
   "source": [
    "scores = modelo_sgd.evaluate(X_test, y_test)\n",
    "print(\"MAE:\", scores[1])\n",
    "print(\"MSE:\", scores[2])\n",
    "print(\"R2:\", scores[3])"
   ]
  },
  {
   "cell_type": "markdown",
   "id": "fab2e3e9",
   "metadata": {},
   "source": [
    "* ### Como se puede apreciar usando también el ***SGD*** obtenemos casi elmismo resultado un ***MAE = 62.43***.\n",
    "----\n",
    "----\n",
    "* # RESUMEN:\n",
    "* ## Como veran el resultado sigue siendo el mismo, lo que haremos ahora es concatenar el dataset dumificado sobre los barrios. me llevara mas tiempo de entrenar la red neuronal pero creo que sera lo mejor que podremos hacer.\n"
   ]
  },
  {
   "cell_type": "code",
   "execution_count": 482,
   "id": "02830f20",
   "metadata": {},
   "outputs": [
    {
     "data": {
      "text/html": [
       "<div>\n",
       "<style scoped>\n",
       "    .dataframe tbody tr th:only-of-type {\n",
       "        vertical-align: middle;\n",
       "    }\n",
       "\n",
       "    .dataframe tbody tr th {\n",
       "        vertical-align: top;\n",
       "    }\n",
       "\n",
       "    .dataframe thead th {\n",
       "        text-align: right;\n",
       "    }\n",
       "</style>\n",
       "<table border=\"1\" class=\"dataframe\">\n",
       "  <thead>\n",
       "    <tr style=\"text-align: right;\">\n",
       "      <th></th>\n",
       "      <th>latitud</th>\n",
       "      <th>longitud</th>\n",
       "      <th>noches_minimas</th>\n",
       "      <th>dias_ocupados_2019</th>\n",
       "      <th>noches_minimas</th>\n",
       "      <th>numeros_reseñas</th>\n",
       "      <th>reseñas_por_mes</th>\n",
       "      <th>disponibilidad_2020</th>\n",
       "      <th>habitacion_Entire home/apt</th>\n",
       "      <th>habitacion_Hotel room</th>\n",
       "      <th>...</th>\n",
       "      <th>barrio_West Village</th>\n",
       "      <th>barrio_Westchester Village</th>\n",
       "      <th>barrio_Westerleigh</th>\n",
       "      <th>barrio_Whitestone</th>\n",
       "      <th>barrio_Williamsbridge</th>\n",
       "      <th>barrio_Williamsburg</th>\n",
       "      <th>barrio_Windsor Terrace</th>\n",
       "      <th>barrio_Woodhaven</th>\n",
       "      <th>barrio_Woodlawn</th>\n",
       "      <th>barrio_Woodside</th>\n",
       "    </tr>\n",
       "  </thead>\n",
       "  <tbody>\n",
       "    <tr>\n",
       "      <th>0</th>\n",
       "      <td>40.75362</td>\n",
       "      <td>-73.98377</td>\n",
       "      <td>10</td>\n",
       "      <td>15</td>\n",
       "      <td>10</td>\n",
       "      <td>48</td>\n",
       "      <td>0.39</td>\n",
       "      <td>1</td>\n",
       "      <td>1</td>\n",
       "      <td>0</td>\n",
       "      <td>...</td>\n",
       "      <td>0</td>\n",
       "      <td>0</td>\n",
       "      <td>0</td>\n",
       "      <td>0</td>\n",
       "      <td>0</td>\n",
       "      <td>0</td>\n",
       "      <td>0</td>\n",
       "      <td>0</td>\n",
       "      <td>0</td>\n",
       "      <td>0</td>\n",
       "    </tr>\n",
       "    <tr>\n",
       "      <th>1</th>\n",
       "      <td>40.68514</td>\n",
       "      <td>-73.95976</td>\n",
       "      <td>1</td>\n",
       "      <td>188</td>\n",
       "      <td>1</td>\n",
       "      <td>295</td>\n",
       "      <td>4.67</td>\n",
       "      <td>1</td>\n",
       "      <td>1</td>\n",
       "      <td>0</td>\n",
       "      <td>...</td>\n",
       "      <td>0</td>\n",
       "      <td>0</td>\n",
       "      <td>0</td>\n",
       "      <td>0</td>\n",
       "      <td>0</td>\n",
       "      <td>0</td>\n",
       "      <td>0</td>\n",
       "      <td>0</td>\n",
       "      <td>0</td>\n",
       "      <td>0</td>\n",
       "    </tr>\n",
       "    <tr>\n",
       "      <th>2</th>\n",
       "      <td>40.74767</td>\n",
       "      <td>-73.97500</td>\n",
       "      <td>3</td>\n",
       "      <td>362</td>\n",
       "      <td>3</td>\n",
       "      <td>78</td>\n",
       "      <td>0.60</td>\n",
       "      <td>19</td>\n",
       "      <td>1</td>\n",
       "      <td>0</td>\n",
       "      <td>...</td>\n",
       "      <td>0</td>\n",
       "      <td>0</td>\n",
       "      <td>0</td>\n",
       "      <td>0</td>\n",
       "      <td>0</td>\n",
       "      <td>0</td>\n",
       "      <td>0</td>\n",
       "      <td>0</td>\n",
       "      <td>0</td>\n",
       "      <td>0</td>\n",
       "    </tr>\n",
       "    <tr>\n",
       "      <th>3</th>\n",
       "      <td>40.68688</td>\n",
       "      <td>-73.95596</td>\n",
       "      <td>29</td>\n",
       "      <td>0</td>\n",
       "      <td>29</td>\n",
       "      <td>49</td>\n",
       "      <td>0.38</td>\n",
       "      <td>365</td>\n",
       "      <td>0</td>\n",
       "      <td>0</td>\n",
       "      <td>...</td>\n",
       "      <td>0</td>\n",
       "      <td>0</td>\n",
       "      <td>0</td>\n",
       "      <td>0</td>\n",
       "      <td>0</td>\n",
       "      <td>0</td>\n",
       "      <td>0</td>\n",
       "      <td>0</td>\n",
       "      <td>0</td>\n",
       "      <td>0</td>\n",
       "    </tr>\n",
       "    <tr>\n",
       "      <th>4</th>\n",
       "      <td>40.76489</td>\n",
       "      <td>-73.98493</td>\n",
       "      <td>2</td>\n",
       "      <td>141</td>\n",
       "      <td>2</td>\n",
       "      <td>454</td>\n",
       "      <td>3.52</td>\n",
       "      <td>242</td>\n",
       "      <td>0</td>\n",
       "      <td>0</td>\n",
       "      <td>...</td>\n",
       "      <td>0</td>\n",
       "      <td>0</td>\n",
       "      <td>0</td>\n",
       "      <td>0</td>\n",
       "      <td>0</td>\n",
       "      <td>0</td>\n",
       "      <td>0</td>\n",
       "      <td>0</td>\n",
       "      <td>0</td>\n",
       "      <td>0</td>\n",
       "    </tr>\n",
       "  </tbody>\n",
       "</table>\n",
       "<p>5 rows × 198 columns</p>\n",
       "</div>"
      ],
      "text/plain": [
       "    latitud  longitud  noches_minimas  dias_ocupados_2019  noches_minimas  \\\n",
       "0  40.75362 -73.98377              10                  15              10   \n",
       "1  40.68514 -73.95976               1                 188               1   \n",
       "2  40.74767 -73.97500               3                 362               3   \n",
       "3  40.68688 -73.95596              29                   0              29   \n",
       "4  40.76489 -73.98493               2                 141               2   \n",
       "\n",
       "   numeros_reseñas  reseñas_por_mes  disponibilidad_2020  \\\n",
       "0               48             0.39                    1   \n",
       "1              295             4.67                    1   \n",
       "2               78             0.60                   19   \n",
       "3               49             0.38                  365   \n",
       "4              454             3.52                  242   \n",
       "\n",
       "   habitacion_Entire home/apt  habitacion_Hotel room  ...  \\\n",
       "0                           1                      0  ...   \n",
       "1                           1                      0  ...   \n",
       "2                           1                      0  ...   \n",
       "3                           0                      0  ...   \n",
       "4                           0                      0  ...   \n",
       "\n",
       "   barrio_West Village  barrio_Westchester Village  barrio_Westerleigh  \\\n",
       "0                    0                           0                   0   \n",
       "1                    0                           0                   0   \n",
       "2                    0                           0                   0   \n",
       "3                    0                           0                   0   \n",
       "4                    0                           0                   0   \n",
       "\n",
       "   barrio_Whitestone  barrio_Williamsbridge  barrio_Williamsburg  \\\n",
       "0                  0                      0                    0   \n",
       "1                  0                      0                    0   \n",
       "2                  0                      0                    0   \n",
       "3                  0                      0                    0   \n",
       "4                  0                      0                    0   \n",
       "\n",
       "   barrio_Windsor Terrace  barrio_Woodhaven  barrio_Woodlawn  barrio_Woodside  \n",
       "0                       0                 0                0                0  \n",
       "1                       0                 0                0                0  \n",
       "2                       0                 0                0                0  \n",
       "3                       0                 0                0                0  \n",
       "4                       0                 0                0                0  \n",
       "\n",
       "[5 rows x 198 columns]"
      ]
     },
     "execution_count": 482,
     "metadata": {},
     "output_type": "execute_result"
    }
   ],
   "source": [
    "data_final = pd.concat([X,barrios_dummy], axis=1)\n",
    "data_final.head()"
   ]
  },
  {
   "cell_type": "code",
   "execution_count": 485,
   "id": "8319291a",
   "metadata": {},
   "outputs": [],
   "source": [
    "X = data_final\n",
    "Y = data_habitacion_dummy[\"precio\"]"
   ]
  },
  {
   "cell_type": "code",
   "execution_count": 488,
   "id": "5ec764dd",
   "metadata": {},
   "outputs": [],
   "source": [
    "X_norm = (X - X.mean() / X.std())"
   ]
  },
  {
   "cell_type": "code",
   "execution_count": 489,
   "id": "67998b14",
   "metadata": {},
   "outputs": [],
   "source": [
    "#Separamos en modelos de entrenamiento y test\n",
    "X_train , X_test , Y_train , Y_test = train_test_split(X_norm , Y , test_size=0.3 , random_state=42)"
   ]
  },
  {
   "cell_type": "code",
   "execution_count": 490,
   "id": "3f1df70d",
   "metadata": {},
   "outputs": [],
   "source": [
    "#Creamos el modelo, con sus respectivas densidad\n",
    "modelo = keras.Sequential([\n",
    "    keras.layers.Dense(64, activation='relu', input_shape=[198]),\n",
    "    keras.layers.Dense(64, activation='relu'),\n",
    "    keras.layers.Dense(64, activation='relu'),\n",
    "    keras.layers.Dense(64, activation='relu'),\n",
    "    keras.layers.Dense(32, activation='relu'),\n",
    "    keras.layers.Dense(1)\n",
    "])"
   ]
  },
  {
   "cell_type": "code",
   "execution_count": 517,
   "id": "f8d16f5d",
   "metadata": {
    "scrolled": true
   },
   "outputs": [
    {
     "name": "stdout",
     "output_type": "stream",
     "text": [
      "Epoch 1/10\n"
     ]
    },
    {
     "name": "stderr",
     "output_type": "stream",
     "text": [
      "C:\\Users\\Acer\\anaconda3\\envs\\Trabajar-con-tensorflow\\lib\\site-packages\\keras\\engine\\data_adapter.py:1696: FutureWarning: The behavior of `series[i:j]` with an integer-dtype index is deprecated. In a future version, this will be treated as *label-based* indexing, consistent with e.g. `series[i]` lookups. To retain the old behavior, use `series.iloc[i:j]`. To get the future behavior, use `series.loc[i:j]`.\n",
      "  return t[start:end]\n"
     ]
    },
    {
     "name": "stdout",
     "output_type": "stream",
     "text": [
      "270/270 [==============================] - 2s 4ms/step - loss: 26205.8145 - mae: 62.8626 - val_loss: 63117.5156 - val_mae: 64.6953\n",
      "Epoch 2/10\n",
      "270/270 [==============================] - 1s 3ms/step - loss: 26202.8242 - mae: 62.7941 - val_loss: 63224.1484 - val_mae: 63.0261\n",
      "Epoch 3/10\n",
      "270/270 [==============================] - 1s 4ms/step - loss: 26209.5527 - mae: 62.5306 - val_loss: 63029.6914 - val_mae: 66.6856\n",
      "Epoch 4/10\n",
      "270/270 [==============================] - 1s 3ms/step - loss: 26204.1836 - mae: 62.8412 - val_loss: 63166.2422 - val_mae: 63.5049\n",
      "Epoch 5/10\n",
      "270/270 [==============================] - 1s 4ms/step - loss: 26227.8613 - mae: 62.7401 - val_loss: 63038.6328 - val_mae: 65.2904\n",
      "Epoch 6/10\n",
      "270/270 [==============================] - 1s 4ms/step - loss: 26245.7344 - mae: 62.6691 - val_loss: 63043.1367 - val_mae: 65.3028\n",
      "Epoch 7/10\n",
      "270/270 [==============================] - 1s 5ms/step - loss: 26209.6543 - mae: 62.6425 - val_loss: 63110.5352 - val_mae: 64.1940\n",
      "Epoch 8/10\n",
      "270/270 [==============================] - 1s 5ms/step - loss: 26151.6797 - mae: 62.6521 - val_loss: 63202.0000 - val_mae: 70.4607\n",
      "Epoch 9/10\n",
      "270/270 [==============================] - 1s 4ms/step - loss: 26218.6816 - mae: 62.5427 - val_loss: 63049.1016 - val_mae: 66.0567\n",
      "Epoch 10/10\n",
      "270/270 [==============================] - 1s 4ms/step - loss: 26197.3848 - mae: 62.6136 - val_loss: 63063.1016 - val_mae: 65.7340\n"
     ]
    }
   ],
   "source": [
    "#Entrenamos el modelo\n",
    "modelo.compile(optimizer=keras.optimizers.RMSprop(learning_rate=0.001) , loss='mse' , metrics=['mae'])\n",
    "history = modelo.fit(X_train , Y_train , epochs=10 , validation_split=0.3 ,verbose=1)"
   ]
  },
  {
   "cell_type": "code",
   "execution_count": 518,
   "id": "00fd8bad",
   "metadata": {},
   "outputs": [
    {
     "name": "stdout",
     "output_type": "stream",
     "text": [
      "166/166 [==============================] - 0s 2ms/step\n"
     ]
    }
   ],
   "source": [
    "y_pred = modelo.predict(X_test).flatten()"
   ]
  },
  {
   "cell_type": "code",
   "execution_count": 519,
   "id": "93579555",
   "metadata": {},
   "outputs": [
    {
     "name": "stdout",
     "output_type": "stream",
     "text": [
      "Coeficiente de determinación (R2) es de: 0.16321968656603725\n",
      "Error cuadrático medio (MSE) es de : 24775.3805090502\n",
      "Eror absoluto medio (MAE) es de: 61.839134785084646\n"
     ]
    }
   ],
   "source": [
    "print('Coeficiente de determinación (R2) es de:', r2_score(Y_test, y_pred))\n",
    "print('Error cuadrático medio (MSE) es de :',mean_squared_error(Y_test , y_pred))\n",
    "print('Eror absoluto medio (MAE) es de:', mean_absolute_error(Y_test, y_pred))"
   ]
  },
  {
   "cell_type": "markdown",
   "id": "531a7677",
   "metadata": {},
   "source": [
    "* ## OPTIMIZADOR 'RMSprop' - MAE = 61.83\n",
    "-----\n",
    "----"
   ]
  },
  {
   "cell_type": "code",
   "execution_count": 521,
   "id": "7c0c6478",
   "metadata": {},
   "outputs": [],
   "source": [
    "modelo1 = keras.Sequential([\n",
    "    keras.layers.Dense(65, activation='relu', input_shape=[198]),\n",
    "    keras.layers.Dense(65, activation='relu'),\n",
    "    keras.layers.Dense(65, activation='relu'),\n",
    "    keras.layers.Dense(65, activation='relu'),\n",
    "    keras.layers.Dense(65, activation='relu'),\n",
    "    keras.layers.Dense(65, activation='relu'),\n",
    "    keras.layers.Dense(65, activation='relu'),\n",
    "    keras.layers.Dense(65, activation='relu'),\n",
    "    keras.layers.Dense(65, activation='relu'),\n",
    "    keras.layers.Dense(1)\n",
    "])"
   ]
  },
  {
   "cell_type": "code",
   "execution_count": 522,
   "id": "e36c846c",
   "metadata": {},
   "outputs": [
    {
     "name": "stderr",
     "output_type": "stream",
     "text": [
      "C:\\Users\\Acer\\anaconda3\\envs\\Trabajar-con-tensorflow\\lib\\site-packages\\keras\\engine\\data_adapter.py:1696: FutureWarning: The behavior of `series[i:j]` with an integer-dtype index is deprecated. In a future version, this will be treated as *label-based* indexing, consistent with e.g. `series[i]` lookups. To retain the old behavior, use `series.iloc[i:j]`. To get the future behavior, use `series.loc[i:j]`.\n",
      "  return t[start:end]\n"
     ]
    }
   ],
   "source": [
    "#Entrenamos el modelo\n",
    "modelo1.compile(optimizer=keras.optimizers.Adam(learning_rate=0.001), loss='mse' , metrics=['mae'])\n",
    "history1 = modelo1.fit(X_train , Y_train , epochs=500 , validation_split=0.2 ,verbose=0)"
   ]
  },
  {
   "cell_type": "code",
   "execution_count": 523,
   "id": "48980c37",
   "metadata": {},
   "outputs": [
    {
     "name": "stdout",
     "output_type": "stream",
     "text": [
      "166/166 [==============================] - 1s 3ms/step\n"
     ]
    }
   ],
   "source": [
    "y_pred1 = modelo1.predict(X_test).flatten()"
   ]
  },
  {
   "cell_type": "code",
   "execution_count": 524,
   "id": "4a54ac1b",
   "metadata": {},
   "outputs": [
    {
     "name": "stdout",
     "output_type": "stream",
     "text": [
      "Coeficiente de determinación (R2) es de: 0.08826148732976813\n",
      "Error cuadrático medio (MSE) es de : 26994.741885670734\n",
      "Eror absoluto medio (MAE) es de: 86.37610274055936\n"
     ]
    }
   ],
   "source": [
    "print('Coeficiente de determinación (R2) es de:', r2_score(Y_test, y_pred1))\n",
    "print('Error cuadrático medio (MSE) es de :',mean_squared_error(Y_test , y_pred1))\n",
    "print('Eror absoluto medio (MAE) es de:', mean_absolute_error(Y_test, y_pred1))"
   ]
  },
  {
   "cell_type": "markdown",
   "id": "25505ebd",
   "metadata": {},
   "source": [
    "* ## OPTIMIZADOR 'ADAM' --- MAE = 86.37\n",
    "----\n",
    "----"
   ]
  },
  {
   "cell_type": "code",
   "execution_count": 535,
   "id": "760f01cd",
   "metadata": {},
   "outputs": [],
   "source": [
    "X = data_final\n",
    "Y = data_habitacion_dummy[\"precio\"].values"
   ]
  },
  {
   "cell_type": "code",
   "execution_count": 536,
   "id": "e1003143",
   "metadata": {},
   "outputs": [],
   "source": [
    "#### ##### #### Dividimos los datos en conjutos de prueba y test\n",
    "\n",
    "X_train , X_test , y_train , y_test = train_test_split(X,Y , test_size=0.30 , random_state=42)"
   ]
  },
  {
   "cell_type": "code",
   "execution_count": 537,
   "id": "a2ae6a86",
   "metadata": {},
   "outputs": [],
   "source": [
    "scaler = StandardScaler()\n",
    "X_train = scaler.fit_transform(X_train)\n",
    "X_test = scaler.fit_transform(X_test)"
   ]
  },
  {
   "cell_type": "code",
   "execution_count": 538,
   "id": "61c86e88",
   "metadata": {},
   "outputs": [],
   "source": [
    "X_train = np.reshape(X_train, (X_train.shape[0],1, X_train.shape[1]))\n",
    "X_test = np.reshape(X_test, (X_test.shape[0],1 , X_test.shape[1]))"
   ]
  },
  {
   "cell_type": "code",
   "execution_count": 540,
   "id": "3f04f95d",
   "metadata": {},
   "outputs": [],
   "source": [
    "modeloR9 = Sequential()\n",
    "modeloR9.add(LSTM(units=64 , activation='relu', return_sequences=True , input_shape=(1, X_train.shape[2])))\n",
    "modeloR9.add(Dropout(0.2))\n",
    "modeloR9.add(LSTM(units=64 ,activation='relu'))\n",
    "modeloR9.add(Dropout(0.2))\n",
    "modeloR9.add(Dense(units=1))"
   ]
  },
  {
   "cell_type": "code",
   "execution_count": 541,
   "id": "7cc41513",
   "metadata": {
    "scrolled": false
   },
   "outputs": [
    {
     "name": "stdout",
     "output_type": "stream",
     "text": [
      "Epoch 1/10\n",
      "386/386 [==============================] - 7s 7ms/step - loss: 45748.6641\n",
      "Epoch 2/10\n",
      "386/386 [==============================] - 2s 6ms/step - loss: 37424.4609\n",
      "Epoch 3/10\n",
      "386/386 [==============================] - 2s 6ms/step - loss: 37155.7930\n",
      "Epoch 4/10\n",
      "386/386 [==============================] - 3s 8ms/step - loss: 36989.8906\n",
      "Epoch 5/10\n",
      "386/386 [==============================] - 3s 7ms/step - loss: 36699.3242\n",
      "Epoch 6/10\n",
      "386/386 [==============================] - 2s 6ms/step - loss: 36672.7539\n",
      "Epoch 7/10\n",
      "386/386 [==============================] - 3s 7ms/step - loss: 36411.4531\n",
      "Epoch 8/10\n",
      "386/386 [==============================] - 3s 9ms/step - loss: 36644.7266\n",
      "Epoch 9/10\n",
      "386/386 [==============================] - 3s 9ms/step - loss: 36260.0547\n",
      "Epoch 10/10\n",
      "386/386 [==============================] - 3s 9ms/step - loss: 36171.9141\n"
     ]
    },
    {
     "data": {
      "text/plain": [
       "<keras.callbacks.History at 0x24d1d77f9a0>"
      ]
     },
     "execution_count": 541,
     "metadata": {},
     "output_type": "execute_result"
    }
   ],
   "source": [
    "modeloR9.compile(optimizer=keras.optimizers.Adam(learning_rate=0.001) , loss='mean_squared_error')\n",
    "modeloR9.fit(X_train , y_train , epochs=10, batch_size=32 , verbose=1)"
   ]
  },
  {
   "cell_type": "code",
   "execution_count": 543,
   "id": "e127ab33",
   "metadata": {},
   "outputs": [
    {
     "name": "stdout",
     "output_type": "stream",
     "text": [
      "166/166 [==============================] - 2s 4ms/step - loss: 24673.8672\n"
     ]
    }
   ],
   "source": [
    "test_loss = modeloR9.evaluate(X_test , y_test)"
   ]
  },
  {
   "cell_type": "code",
   "execution_count": 544,
   "id": "93af7419",
   "metadata": {},
   "outputs": [
    {
     "name": "stdout",
     "output_type": "stream",
     "text": [
      "166/166 [==============================] - 2s 6ms/step\n"
     ]
    }
   ],
   "source": [
    "y_pred = modeloR9.predict(X_test)"
   ]
  },
  {
   "cell_type": "code",
   "execution_count": 545,
   "id": "d9381362",
   "metadata": {},
   "outputs": [
    {
     "name": "stdout",
     "output_type": "stream",
     "text": [
      "MAE = 56.25727305615298\n",
      "MSE = 24673.87119390268\n",
      "R2 = 0.16664813023876224\n"
     ]
    }
   ],
   "source": [
    "mae = mean_absolute_error(y_test , y_pred)\n",
    "mse = mean_squared_error(y_test , y_pred)\n",
    "R2 = r2_score(y_test , y_pred)\n",
    "\n",
    "print(\"MAE =\",mae)\n",
    "print(\"MSE =\",mse)\n",
    "print(\"R2 =\",R2)"
   ]
  },
  {
   "cell_type": "markdown",
   "id": "98fd8c13",
   "metadata": {},
   "source": [
    "* # Red Neuronal Recurrente (compleja) --- Optimizador 'ADAM' MAE = 56.25\n",
    "-----"
   ]
  },
  {
   "cell_type": "code",
   "execution_count": 549,
   "id": "13564684",
   "metadata": {},
   "outputs": [],
   "source": [
    "modeloR19 = Sequential()\n",
    "modeloR19.add(LSTM(units=64 , activation='relu', return_sequences=True , input_shape=(1, X_train.shape[2])))\n",
    "modeloR19.add(Dropout(0.2))\n",
    "modeloR19.add(LSTM(units=64 ,activation='relu'))\n",
    "modeloR19.add(Dropout(0.2))\n",
    "modeloR19.add(Dense(units=1))"
   ]
  },
  {
   "cell_type": "code",
   "execution_count": 554,
   "id": "728b5153",
   "metadata": {
    "scrolled": true
   },
   "outputs": [
    {
     "name": "stdout",
     "output_type": "stream",
     "text": [
      "Epoch 1/10\n",
      "386/386 [==============================] - 8s 7ms/step - loss: 35325.8672\n",
      "Epoch 2/10\n",
      "386/386 [==============================] - 3s 8ms/step - loss: 35004.1523\n",
      "Epoch 3/10\n",
      "386/386 [==============================] - 3s 6ms/step - loss: 35072.8086\n",
      "Epoch 4/10\n",
      "386/386 [==============================] - 3s 8ms/step - loss: 35153.6875\n",
      "Epoch 5/10\n",
      "386/386 [==============================] - 3s 9ms/step - loss: 35242.1445\n",
      "Epoch 6/10\n",
      "386/386 [==============================] - 3s 9ms/step - loss: 35032.2148\n",
      "Epoch 7/10\n",
      "386/386 [==============================] - 4s 10ms/step - loss: 35165.4648\n",
      "Epoch 8/10\n",
      "386/386 [==============================] - 4s 10ms/step - loss: 35294.8438\n",
      "Epoch 9/10\n",
      "386/386 [==============================] - 3s 9ms/step - loss: 35109.7188\n",
      "Epoch 10/10\n",
      "386/386 [==============================] - 3s 7ms/step - loss: 35196.3516\n"
     ]
    },
    {
     "data": {
      "text/plain": [
       "<keras.callbacks.History at 0x24d2a6ffac0>"
      ]
     },
     "execution_count": 554,
     "metadata": {},
     "output_type": "execute_result"
    }
   ],
   "source": [
    "modeloR19.compile(optimizer=keras.optimizers.RMSprop(learning_rate=0.001) , loss='mean_squared_error')\n",
    "modeloR19.fit(X_train , y_train , epochs=10, batch_size=32 , verbose=1)"
   ]
  },
  {
   "cell_type": "code",
   "execution_count": 555,
   "id": "3e49d2df",
   "metadata": {},
   "outputs": [
    {
     "name": "stdout",
     "output_type": "stream",
     "text": [
      "166/166 [==============================] - 1s 4ms/step - loss: 61633.2773\n"
     ]
    }
   ],
   "source": [
    "test_loss = modeloR19.evaluate(X_test , y_test)"
   ]
  },
  {
   "cell_type": "code",
   "execution_count": 556,
   "id": "72676e14",
   "metadata": {},
   "outputs": [
    {
     "name": "stdout",
     "output_type": "stream",
     "text": [
      "166/166 [==============================] - 1s 4ms/step\n"
     ]
    }
   ],
   "source": [
    "y_pred = modeloR19.predict(X_test)"
   ]
  },
  {
   "cell_type": "code",
   "execution_count": 557,
   "id": "d85aab5e",
   "metadata": {},
   "outputs": [
    {
     "name": "stdout",
     "output_type": "stream",
     "text": [
      "MAE = 76.6411677343392\n",
      "MSE = 61633.28598201548\n",
      "R2 = -1.0816439264437\n"
     ]
    }
   ],
   "source": [
    "mae = mean_absolute_error(y_test , y_pred)\n",
    "mse = mean_squared_error(y_test , y_pred)\n",
    "R2 = r2_score(y_test , y_pred)\n",
    "\n",
    "print(\"MAE =\",mae)\n",
    "print(\"MSE =\",mse)\n",
    "print(\"R2 =\",R2)"
   ]
  },
  {
   "cell_type": "markdown",
   "id": "f688a0c5",
   "metadata": {},
   "source": [
    "* # Red Neuronal Recurrente (compleja) --- Optimizador 'RMSprop' MAE = 76.64\n",
    "-----"
   ]
  },
  {
   "cell_type": "code",
   "execution_count": 558,
   "id": "8a4a4266",
   "metadata": {},
   "outputs": [],
   "source": [
    "X_train , X_test , y_train , y_test = train_test_split(X,Y , test_size=0.2 , random_state=42)\n",
    "\n",
    "### #### ### Hacemosun reescalado de los datos que elegimos.\n",
    "\n",
    "scaler = StandardScaler()\n",
    "X_train = scaler.fit_transform(X_train)\n",
    "X_test = scaler.fit_transform(X_test)"
   ]
  },
  {
   "cell_type": "code",
   "execution_count": 559,
   "id": "55739140",
   "metadata": {},
   "outputs": [],
   "source": [
    "modelo_sgd = Sequential()\n",
    "modelo_sgd.add(LSTM(units=128 ,input_shape=(X_train.shape[1],1)))\n",
    "modelo_sgd.add(Dropout(0.2))\n",
    "modelo_sgd.add(Dense(units=1))"
   ]
  },
  {
   "cell_type": "code",
   "execution_count": 560,
   "id": "ebcc44d5",
   "metadata": {},
   "outputs": [],
   "source": [
    "modelo_sgd.compile(optimizer=keras.optimizers.SGD(learning_rate=0.0001), loss='mean_squared_error', metrics=['mae','mse', 'accuracy'])"
   ]
  },
  {
   "cell_type": "code",
   "execution_count": 561,
   "id": "b3a0ae3a",
   "metadata": {},
   "outputs": [
    {
     "name": "stdout",
     "output_type": "stream",
     "text": [
      "Epoch 1/10\n",
      "309/309 [==============================] - 69s 212ms/step - loss: 33175.8633 - mae: 86.5509 - mse: 33175.8633 - accuracy: 0.0000e+00 - val_loss: 61136.1172 - val_mae: 85.7817 - val_mse: 61136.1172 - val_accuracy: 0.0000e+00\n",
      "Epoch 2/10\n",
      "309/309 [==============================] - 65s 210ms/step - loss: 30246.0254 - mae: 80.8124 - mse: 30246.0254 - accuracy: 0.0000e+00 - val_loss: 61118.1211 - val_mae: 84.4737 - val_mse: 61118.1211 - val_accuracy: 0.0000e+00\n",
      "Epoch 3/10\n",
      "309/309 [==============================] - 66s 215ms/step - loss: 30293.3066 - mae: 80.8695 - mse: 30293.3066 - accuracy: 0.0000e+00 - val_loss: 61131.4844 - val_mae: 83.1601 - val_mse: 61131.4844 - val_accuracy: 0.0000e+00\n",
      "Epoch 4/10\n",
      "309/309 [==============================] - 65s 210ms/step - loss: 30271.6465 - mae: 80.6418 - mse: 30271.6465 - accuracy: 0.0000e+00 - val_loss: 61114.9883 - val_mae: 84.0902 - val_mse: 61114.9883 - val_accuracy: 0.0000e+00\n",
      "Epoch 5/10\n",
      "309/309 [==============================] - 67s 217ms/step - loss: 30285.7598 - mae: 80.4268 - mse: 30285.7598 - accuracy: 0.0000e+00 - val_loss: 61124.3828 - val_mae: 85.5693 - val_mse: 61124.3828 - val_accuracy: 0.0000e+00\n",
      "Epoch 6/10\n",
      "309/309 [==============================] - 65s 209ms/step - loss: 30239.6426 - mae: 80.8592 - mse: 30239.6426 - accuracy: 0.0000e+00 - val_loss: 61111.1367 - val_mae: 84.0030 - val_mse: 61111.1367 - val_accuracy: 0.0000e+00\n",
      "Epoch 7/10\n",
      "309/309 [==============================] - 65s 211ms/step - loss: 30253.2148 - mae: 80.7036 - mse: 30253.2148 - accuracy: 0.0000e+00 - val_loss: 61124.3164 - val_mae: 83.1050 - val_mse: 61124.3164 - val_accuracy: 0.0000e+00\n",
      "Epoch 8/10\n",
      "309/309 [==============================] - 6414s 21s/step - loss: 30287.0059 - mae: 80.2940 - mse: 30287.0059 - accuracy: 0.0000e+00 - val_loss: 61108.8828 - val_mae: 83.9617 - val_mse: 61108.8828 - val_accuracy: 0.0000e+00\n",
      "Epoch 9/10\n",
      "309/309 [==============================] - 71s 230ms/step - loss: 30306.4883 - mae: 80.6904 - mse: 30306.4883 - accuracy: 0.0000e+00 - val_loss: 61107.0391 - val_mae: 84.0459 - val_mse: 61107.0391 - val_accuracy: 0.0000e+00\n",
      "Epoch 10/10\n",
      "309/309 [==============================] - 66s 214ms/step - loss: 30263.0254 - mae: 80.1248 - mse: 30263.0254 - accuracy: 0.0000e+00 - val_loss: 61106.0508 - val_mae: 84.6108 - val_mse: 61106.0508 - val_accuracy: 0.0000e+00\n"
     ]
    },
    {
     "data": {
      "text/plain": [
       "<keras.callbacks.History at 0x24d1e5e0fd0>"
      ]
     },
     "execution_count": 561,
     "metadata": {},
     "output_type": "execute_result"
    }
   ],
   "source": [
    "modelo_sgd.fit(X_train , y_train , epochs=10 , batch_size=32 , validation_split=0.3)"
   ]
  },
  {
   "cell_type": "code",
   "execution_count": 562,
   "id": "05031780",
   "metadata": {},
   "outputs": [
    {
     "name": "stdout",
     "output_type": "stream",
     "text": [
      "111/111 [==============================] - 8s 76ms/step - loss: 32137.8125 - mae: 81.8370 - mse: 32137.8125 - accuracy: 0.0000e+00\n",
      "MAE: 81.83698272705078\n",
      "MSE: 32137.8125\n",
      "R2: 0.0\n"
     ]
    }
   ],
   "source": [
    "scores = modelo_sgd.evaluate(X_test, y_test)\n",
    "print(\"MAE:\", scores[1])\n",
    "print(\"MSE:\", scores[2])\n",
    "print(\"R2:\", scores[3])"
   ]
  },
  {
   "cell_type": "markdown",
   "id": "b8a97e45",
   "metadata": {},
   "source": [
    "* # Red Neuronal Recurrente (compleja) --- Optimizador 'SGD' MAE = 81.83\n",
    "---- \n",
    "\n",
    "# Nos quedaremos con el resultado de SVR y cambiaremos los valores de hipermarametros para ver como reaciona el modelo."
   ]
  },
  {
   "cell_type": "code",
   "execution_count": 584,
   "id": "8605ba3a",
   "metadata": {},
   "outputs": [],
   "source": [
    "from sklearn.preprocessing import StandardScaler\n",
    "from sklearn.feature_selection import RFE\n",
    "from sklearn.svm import SVR\n",
    "from sklearn.model_selection import GridSearchCV"
   ]
  },
  {
   "cell_type": "code",
   "execution_count": 585,
   "id": "903ae3ad",
   "metadata": {},
   "outputs": [],
   "source": [
    "X9 = data_habitacion_dummy[[\"latitud\",\"noches_minimas\",\"dias_ocupados_2019\",\"noches_minimas\",\"numeros_reseñas\",\n",
    "                           \"reseñas_por_mes\",\"disponibilidad_2020\",\"habitacion_Entire home/apt\",\"habitacion_Hotel room\",\n",
    "                           \"habitacion_Private room\",\"habitacion_Shared room\"]]\n",
    "Y9 = data_habitacion_dummy[\"precio\"]"
   ]
  },
  {
   "cell_type": "code",
   "execution_count": 587,
   "id": "c92978cd",
   "metadata": {},
   "outputs": [],
   "source": [
    "param_grid={'C':[0.1,1,10], 'gamma':[0.1,1,10] , 'epsilon':[0.1,0.5,1]}"
   ]
  },
  {
   "cell_type": "code",
   "execution_count": 588,
   "id": "5f49e075",
   "metadata": {},
   "outputs": [],
   "source": [
    "X_train , X_test , y_train , y_test = train_test_split(X9,Y9 , test_size=0.3 , random_state=42)"
   ]
  },
  {
   "cell_type": "code",
   "execution_count": null,
   "id": "02eccf83",
   "metadata": {},
   "outputs": [],
   "source": [
    "svr = SVR(kernel='rbf')\n",
    "grid_search = GridSearchCV(svr , param_grid , cv=5 , scoring='neg_mean_absolute_error')\n",
    "grid_search.fit(X_train , y_train)"
   ]
  },
  {
   "cell_type": "code",
   "execution_count": null,
   "id": "7c0420fb",
   "metadata": {},
   "outputs": [],
   "source": [
    "print(\"Best parameters: \", grid_search.best_params_)\n",
    "print(\"MAE on validation set: \", -grid_search.best_score_)"
   ]
  },
  {
   "cell_type": "code",
   "execution_count": null,
   "id": "7f7666ec",
   "metadata": {},
   "outputs": [],
   "source": []
  },
  {
   "cell_type": "markdown",
   "id": "e5a0aeb3",
   "metadata": {},
   "source": [
    "* # LO DEJO HASTA ACA Y MAÑANA ME COMPROMETO A SUBIR EL RESULTADO FINAL."
   ]
  },
  {
   "cell_type": "code",
   "execution_count": null,
   "id": "0bdbec47",
   "metadata": {},
   "outputs": [],
   "source": []
  },
  {
   "cell_type": "code",
   "execution_count": null,
   "id": "9bbc3b11",
   "metadata": {},
   "outputs": [],
   "source": []
  },
  {
   "cell_type": "code",
   "execution_count": null,
   "id": "4acfdac8",
   "metadata": {},
   "outputs": [],
   "source": []
  },
  {
   "cell_type": "code",
   "execution_count": null,
   "id": "568b2fee",
   "metadata": {},
   "outputs": [],
   "source": []
  },
  {
   "cell_type": "code",
   "execution_count": null,
   "id": "d38fbb7f",
   "metadata": {},
   "outputs": [],
   "source": []
  },
  {
   "cell_type": "code",
   "execution_count": null,
   "id": "71aec3bb",
   "metadata": {},
   "outputs": [],
   "source": []
  },
  {
   "cell_type": "code",
   "execution_count": null,
   "id": "b709d070",
   "metadata": {},
   "outputs": [],
   "source": []
  },
  {
   "cell_type": "code",
   "execution_count": null,
   "id": "96e9fcc7",
   "metadata": {},
   "outputs": [],
   "source": []
  },
  {
   "cell_type": "code",
   "execution_count": null,
   "id": "0577d457",
   "metadata": {},
   "outputs": [],
   "source": []
  },
  {
   "cell_type": "code",
   "execution_count": null,
   "id": "73e30cb3",
   "metadata": {},
   "outputs": [],
   "source": []
  },
  {
   "cell_type": "code",
   "execution_count": null,
   "id": "828fd2db",
   "metadata": {},
   "outputs": [],
   "source": []
  },
  {
   "cell_type": "code",
   "execution_count": null,
   "id": "6c4f8984",
   "metadata": {},
   "outputs": [],
   "source": []
  },
  {
   "cell_type": "code",
   "execution_count": null,
   "id": "061d14f4",
   "metadata": {},
   "outputs": [],
   "source": []
  },
  {
   "cell_type": "code",
   "execution_count": null,
   "id": "801c79be",
   "metadata": {},
   "outputs": [],
   "source": []
  },
  {
   "cell_type": "code",
   "execution_count": null,
   "id": "54aad5ce",
   "metadata": {},
   "outputs": [],
   "source": []
  },
  {
   "cell_type": "code",
   "execution_count": null,
   "id": "f3342fab",
   "metadata": {},
   "outputs": [],
   "source": []
  },
  {
   "cell_type": "code",
   "execution_count": null,
   "id": "2ad4396a",
   "metadata": {},
   "outputs": [],
   "source": []
  },
  {
   "cell_type": "code",
   "execution_count": null,
   "id": "8a79c7c0",
   "metadata": {},
   "outputs": [],
   "source": []
  },
  {
   "cell_type": "code",
   "execution_count": null,
   "id": "f3cba7fa",
   "metadata": {},
   "outputs": [],
   "source": []
  },
  {
   "cell_type": "code",
   "execution_count": null,
   "id": "e5daf143",
   "metadata": {},
   "outputs": [],
   "source": []
  },
  {
   "cell_type": "code",
   "execution_count": null,
   "id": "b9ca0239",
   "metadata": {},
   "outputs": [],
   "source": []
  },
  {
   "cell_type": "code",
   "execution_count": null,
   "id": "34261779",
   "metadata": {},
   "outputs": [],
   "source": []
  },
  {
   "cell_type": "code",
   "execution_count": null,
   "id": "66ec9950",
   "metadata": {},
   "outputs": [],
   "source": []
  },
  {
   "cell_type": "code",
   "execution_count": null,
   "id": "8ba9f711",
   "metadata": {},
   "outputs": [],
   "source": []
  },
  {
   "cell_type": "code",
   "execution_count": null,
   "id": "4b507de2",
   "metadata": {},
   "outputs": [],
   "source": []
  },
  {
   "cell_type": "code",
   "execution_count": null,
   "id": "9cd5833b",
   "metadata": {},
   "outputs": [],
   "source": []
  },
  {
   "cell_type": "code",
   "execution_count": null,
   "id": "e685dfb0",
   "metadata": {},
   "outputs": [],
   "source": []
  },
  {
   "cell_type": "code",
   "execution_count": null,
   "id": "890fc718",
   "metadata": {},
   "outputs": [],
   "source": []
  },
  {
   "cell_type": "code",
   "execution_count": null,
   "id": "550faeea",
   "metadata": {},
   "outputs": [],
   "source": []
  },
  {
   "cell_type": "code",
   "execution_count": null,
   "id": "1392a796",
   "metadata": {},
   "outputs": [],
   "source": []
  },
  {
   "cell_type": "code",
   "execution_count": null,
   "id": "caaeb3c4",
   "metadata": {},
   "outputs": [],
   "source": []
  },
  {
   "cell_type": "code",
   "execution_count": null,
   "id": "50d9492d",
   "metadata": {},
   "outputs": [],
   "source": []
  },
  {
   "cell_type": "code",
   "execution_count": null,
   "id": "a624d534",
   "metadata": {},
   "outputs": [],
   "source": []
  },
  {
   "cell_type": "code",
   "execution_count": null,
   "id": "a2a0c3ad",
   "metadata": {},
   "outputs": [],
   "source": []
  },
  {
   "cell_type": "code",
   "execution_count": null,
   "id": "17584fee",
   "metadata": {},
   "outputs": [],
   "source": []
  },
  {
   "cell_type": "code",
   "execution_count": null,
   "id": "06ac06b6",
   "metadata": {},
   "outputs": [],
   "source": []
  },
  {
   "cell_type": "markdown",
   "id": "1a77ac48",
   "metadata": {},
   "source": [
    "* ## Observación\n",
    "* ### Al tener muchos tipos de valores \"precios\" lo que haremos para usar el arbol de decisión es pasar los valores numericos a valores categoricos. Es decir separar de a grupos de precios. pueden ser bastantes grupos pero seria lo mas \"acorde\" para poder usar el árbol de decisión y asi ver seguramente una eficacia muchisima mas alta de la que venimos teniendo.\n",
    "------"
   ]
  },
  {
   "cell_type": "code",
   "execution_count": null,
   "id": "783e480e",
   "metadata": {},
   "outputs": [],
   "source": [
    "#Pasamos las variables precio que son numericas a variables categoricas.\n",
    "data_arbol_decision.loc[data[\"precio\"]<=50, \"precio\"] = \"0-50usd\"\n",
    "data_arbol_decision.loc[(data[\"precio\"]>50)&(data[\"precio\"]<=75),\"precio\"] = \"50-75usd\"\n",
    "data_arbol_decision.loc[(data[\"precio\"]>75)&(data[\"precio\"]<=100),\"precio\"] = \"75-100usd\"\n",
    "data_arbol_decision.loc[(data[\"precio\"]>100)&(data[\"precio\"]<=125),\"precio\"] = \"100-125usd\"\n",
    "data_arbol_decision.loc[(data[\"precio\"]>125)&(data[\"precio\"]<=150),\"precio\"] = \"125-150usd\"\n",
    "data_arbol_decision.loc[(data[\"precio\"]>150)&(data[\"precio\"]<=175),\"precio\"] = \"150-175usd\"\n",
    "data_arbol_decision.loc[(data[\"precio\"]>175)&(data[\"precio\"]<=200),\"precio\"] = \"175-200usd\"\n",
    "data_arbol_decision.loc[(data[\"precio\"]>200)&(data[\"precio\"]<=225),\"precio\"] = \"200-225usd\"\n",
    "data_arbol_decision.loc[(data[\"precio\"]>225)&(data[\"precio\"]<=250),\"precio\"] = \"225-250usd\"\n",
    "data_arbol_decision.loc[(data[\"precio\"]>250)&(data[\"precio\"]<=275),\"precio\"] = \"250-275usd\"\n",
    "data_arbol_decision.loc[(data[\"precio\"]>275)&(data[\"precio\"]<=300),\"precio\"] = \"275-300usd\"\n",
    "data_arbol_decision.loc[(data[\"precio\"]>300)&(data[\"precio\"]<=325),\"precio\"] = \"300-325usd\"\n",
    "data_arbol_decision.loc[(data[\"precio\"]>325)&(data[\"precio\"]<=350),\"precio\"] = \"325-350usd\"\n",
    "data_arbol_decision.loc[(data[\"precio\"]>350)&(data[\"precio\"]<=375),\"precio\"] = \"350-375usd\"\n",
    "data_arbol_decision.loc[(data[\"precio\"]>375)&(data[\"precio\"]<=400),\"precio\"] = \"375-400usd\"\n",
    "data_arbol_decision.loc[(data[\"precio\"]>400)&(data[\"precio\"]<=450),\"precio\"] = \"400-450usd\"\n",
    "data_arbol_decision.loc[(data[\"precio\"]>450)&(data[\"precio\"]<=500),\"precio\"] = \"450-500usd\"\n",
    "data_arbol_decision.loc[(data[\"precio\"]>500)&(data[\"precio\"]<=550),\"precio\"] = \"500-550usd\"\n",
    "data_arbol_decision.loc[(data[\"precio\"]>550)&(data[\"precio\"]<=600),\"precio\"] = \"550-600usd\"\n",
    "data_arbol_decision.loc[(data[\"precio\"]>600)&(data[\"precio\"]<=650),\"precio\"] = \"600-650usd\"\n",
    "data_arbol_decision.loc[(data[\"precio\"]>650)&(data[\"precio\"]<=700),\"precio\"] = \"650-700usd\"\n",
    "data_arbol_decision.loc[(data[\"precio\"]>700)&(data[\"precio\"]<=750),\"precio\"] = \"700-750usd\"\n",
    "data_arbol_decision.loc[(data[\"precio\"]>750)&(data[\"precio\"]<=800),\"precio\"] = \"750-800usd\"\n",
    "data_arbol_decision.loc[(data[\"precio\"]>800)&(data[\"precio\"]<=850),\"precio\"] = \"800-850usd\"\n",
    "data_arbol_decision.loc[(data[\"precio\"]>850)&(data[\"precio\"]<=900),\"precio\"] = \"850-900usd\"\n",
    "data_arbol_decision.loc[(data[\"precio\"]>850)&(data[\"precio\"]<=900),\"precio\"] = \"850-900usd\"\n",
    "data_arbol_decision.loc[(data[\"precio\"]>900)&(data[\"precio\"]<=950),\"precio\"] = \"900-950usd\"\n",
    "data_arbol_decision.loc[(data[\"precio\"]>950)&(data[\"precio\"]<=1000),\"precio\"] = \"950-1000usd\"\n",
    "\n",
    "data_arbol_decision.loc[(data[\"precio\"]>1000)&(data[\"precio\"]<=2000),\"precio\"] = \"1000-2000usd\"\n",
    "data_arbol_decision.loc[(data[\"precio\"]>2000)&(data[\"precio\"]<=3000),\"precio\"] = \"2000-3000usd\"\n",
    "data_arbol_decision.loc[(data[\"precio\"]>3000)&(data[\"precio\"]<=4000),\"precio\"] = \"3000-4000usd\"\n",
    "data_arbol_decision.loc[(data[\"precio\"]>4000)&(data[\"precio\"]<=5000),\"precio\"] = \"4000-5000usd\"\n",
    "\n",
    "data_arbol_decision.loc[(data[\"precio\"]>5000)&(data[\"precio\"]<=7000),\"precio\"] = \"5000-7000usd\"\n",
    "data_arbol_decision.loc[(data[\"precio\"]>7000)&(data[\"precio\"]<=9999),\"precio\"] = \"7000-9999usd\""
   ]
  }
 ],
 "metadata": {
  "kernelspec": {
   "display_name": "Python 3 (ipykernel)",
   "language": "python",
   "name": "python3"
  },
  "language_info": {
   "codemirror_mode": {
    "name": "ipython",
    "version": 3
   },
   "file_extension": ".py",
   "mimetype": "text/x-python",
   "name": "python",
   "nbconvert_exporter": "python",
   "pygments_lexer": "ipython3",
   "version": "3.8.13"
  }
 },
 "nbformat": 4,
 "nbformat_minor": 5
}
